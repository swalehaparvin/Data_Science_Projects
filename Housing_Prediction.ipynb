{
  "nbformat": 4,
  "nbformat_minor": 0,
  "metadata": {
    "colab": {
      "provenance": [],
      "authorship_tag": "ABX9TyPTVXyc3tUbunUJ8UZRIDYp",
      "include_colab_link": true
    },
    "kernelspec": {
      "name": "python3",
      "display_name": "Python 3"
    },
    "language_info": {
      "name": "python"
    }
  },
  "cells": [
    {
      "cell_type": "markdown",
      "metadata": {
        "id": "view-in-github",
        "colab_type": "text"
      },
      "source": [
        "<a href=\"https://colab.research.google.com/github/swalehaparvin/kaggle_projects/blob/main/Housing_Prediction.ipynb\" target=\"_parent\"><img src=\"https://colab.research.google.com/assets/colab-badge.svg\" alt=\"Open In Colab\"/></a>"
      ]
    },
    {
      "source": [
        "# Task\n",
        "Goal\n",
        "It is your job to predict the sales price for each house. For each Id in the test set, you must predict the value of the SalePrice variable.\n",
        "\n",
        "Metric\n",
        "Submissions are evaluated on Root-Mean-Squared-Error (RMSE) between the logarithm of the predicted value and the logarithm of the observed sales price. (Taking logs means that errors in predicting expensive houses and cheap houses will affect the result equally.)\n",
        "\n",
        "Output final File Format\n",
        "The file should contain a header and have the following format:\n",
        "\n",
        "Id,SalePrice\n",
        "1461,169000.1\n",
        "1462,187724.1233\n",
        "1463,175221\n",
        "etc.\n",
        "\n",
        "Here is all the data you need:\n",
        "\"data_description.txt\"\n",
        "\"sample_submission.csv\"\n",
        "\"test.csv\"\n",
        "\"train.csv\""
      ],
      "cell_type": "markdown",
      "metadata": {
        "id": "mYaXPQWtuRA1"
      }
    },
    {
      "source": [
        "## Data loading\n",
        "\n",
        "### Subtask:\n",
        "Load the training and testing datasets and the sample submission file.\n"
      ],
      "cell_type": "markdown",
      "metadata": {
        "id": "UUJ1c5aauRss"
      }
    },
    {
      "source": [
        "**Reasoning**:\n",
        "Load the training, testing, and sample submission datasets into pandas DataFrames.\n",
        "\n"
      ],
      "cell_type": "markdown",
      "metadata": {
        "id": "nyQm50knuR8i"
      }
    },
    {
      "source": [
        "import pandas as pd\n",
        "\n",
        "df_train = pd.read_csv('train.csv')\n",
        "df_test = pd.read_csv('test.csv')\n",
        "df_sample_submission = pd.read_csv('sample_submission.csv')"
      ],
      "cell_type": "code",
      "metadata": {
        "id": "sB-zgHU1uSMW"
      },
      "execution_count": 1,
      "outputs": []
    },
    {
      "source": [
        "## Data exploration\n",
        "\n",
        "### Subtask:\n",
        "Explore the training data (df_train) to understand its characteristics.\n"
      ],
      "cell_type": "markdown",
      "metadata": {
        "id": "qFg9y7JSuVaZ"
      }
    },
    {
      "source": [
        "**Reasoning**:\n",
        "Explore the training data (df_train) to understand its characteristics, including data types, missing values, distribution of the target variable, and relationships between features and the target.\n",
        "\n"
      ],
      "cell_type": "markdown",
      "metadata": {
        "id": "WJjurDgnuWo0"
      }
    },
    {
      "source": [
        "# Examine the shape of the training dataset\n",
        "print(\"Shape of training dataset:\", df_train.shape)\n",
        "\n",
        "# Check data types and identify categorical and numerical features\n",
        "print(\"\\nData types of each column:\\n\", df_train.dtypes)\n",
        "\n",
        "# Identify missing values and calculate the percentage of missing values\n",
        "missing_values = df_train.isnull().sum()\n",
        "missing_percentage = (missing_values / len(df_train)) * 100\n",
        "print(\"\\nMissing values percentage:\\n\", missing_percentage[missing_percentage > 0])\n",
        "\n",
        "# Analyze the distribution of the target variable 'SalePrice'\n",
        "import matplotlib.pyplot as plt\n",
        "plt.figure(figsize=(10, 6))\n",
        "plt.hist(df_train['SalePrice'], bins=30, color='skyblue', edgecolor='black')\n",
        "plt.xlabel('SalePrice')\n",
        "plt.ylabel('Frequency')\n",
        "plt.title('Distribution of SalePrice')\n",
        "plt.show()\n",
        "\n",
        "plt.figure(figsize=(10, 6))\n",
        "plt.boxplot(df_train['SalePrice'], vert=False, patch_artist=True, showfliers=True,\n",
        "            boxprops=dict(facecolor='lightcoral', color='black'),\n",
        "            medianprops=dict(color='black'),\n",
        "            whiskerprops=dict(color='black'),\n",
        "            capprops=dict(color='black'))\n",
        "plt.xlabel('SalePrice')\n",
        "plt.title('Boxplot of SalePrice')\n",
        "plt.show()\n",
        "\n",
        "print(\"\\nDescriptive statistics of Sale Price:\\n\", df_train['SalePrice'].describe())\n",
        "\n",
        "\n",
        "# Explore the relationship between numerical features and 'SalePrice'\n",
        "numerical_features = df_train.select_dtypes(include=['int64', 'float64'])\n",
        "correlation_matrix = numerical_features.corr()['SalePrice']\n",
        "print(\"\\nCorrelation with Sale Price:\\n\", correlation_matrix)\n",
        "\n",
        "# Explore the relationship between categorical features and 'SalePrice'\n",
        "categorical_features = df_train.select_dtypes(include=['object'])\n",
        "# Due to the number of categorical features, plotting all of them together would result in a messy plot\n",
        "# Let's look at a few important ones\n",
        "# Example with OverallQual\n",
        "plt.figure(figsize=(10, 6))\n",
        "df_train.boxplot(column='SalePrice', by='OverallQual', patch_artist=True, showfliers=True)\n",
        "plt.title('SalePrice vs OverallQual')\n",
        "plt.suptitle('')\n",
        "plt.show()\n",
        "\n",
        "# Summarize findings\n",
        "print(\"\\nSummary:\")\n",
        "# ... (add summary based on the results)"
      ],
      "cell_type": "code",
      "metadata": {
        "colab": {
          "base_uri": "https://localhost:8080/",
          "height": 1000
        },
        "id": "keNhXLnzuW4v",
        "outputId": "7932140b-89af-4783-bd0a-963eed333835"
      },
      "execution_count": 2,
      "outputs": [
        {
          "output_type": "stream",
          "name": "stdout",
          "text": [
            "Shape of training dataset: (1460, 81)\n",
            "\n",
            "Data types of each column:\n",
            " Id                 int64\n",
            "MSSubClass         int64\n",
            "MSZoning          object\n",
            "LotFrontage      float64\n",
            "LotArea            int64\n",
            "                  ...   \n",
            "MoSold             int64\n",
            "YrSold             int64\n",
            "SaleType          object\n",
            "SaleCondition     object\n",
            "SalePrice          int64\n",
            "Length: 81, dtype: object\n",
            "\n",
            "Missing values percentage:\n",
            " LotFrontage     17.739726\n",
            "Alley           93.767123\n",
            "MasVnrType      59.726027\n",
            "MasVnrArea       0.547945\n",
            "BsmtQual         2.534247\n",
            "BsmtCond         2.534247\n",
            "BsmtExposure     2.602740\n",
            "BsmtFinType1     2.534247\n",
            "BsmtFinType2     2.602740\n",
            "Electrical       0.068493\n",
            "FireplaceQu     47.260274\n",
            "GarageType       5.547945\n",
            "GarageYrBlt      5.547945\n",
            "GarageFinish     5.547945\n",
            "GarageQual       5.547945\n",
            "GarageCond       5.547945\n",
            "PoolQC          99.520548\n",
            "Fence           80.753425\n",
            "MiscFeature     96.301370\n",
            "dtype: float64\n"
          ]
        },
        {
          "output_type": "display_data",
          "data": {
            "text/plain": [
              "<Figure size 1000x600 with 1 Axes>"
            ],
            "image/png": "[encoded data removed]"
          },
          "metadata": {}
        },
        {
          "output_type": "display_data",
          "data": {
            "text/plain": [
              "<Figure size 1000x600 with 1 Axes>"
            ],
            "image/png": "[encoded data removed]"
          },
          "metadata": {}
        },
        {
          "output_type": "stream",
          "name": "stdout",
          "text": [
            "\n",
            "Descriptive statistics of SalePrice:\n",
            " count      1460.000000\n",
            "mean     180921.195890\n",
            "std       79442.502883\n",
            "min       34900.000000\n",
            "25%      129975.000000\n",
            "50%      163000.000000\n",
            "75%      214000.000000\n",
            "max      755000.000000\n",
            "Name: SalePrice, dtype: float64\n",
            "\n",
            "Correlation with SalePrice:\n",
            " Id              -0.021917\n",
            "MSSubClass      -0.084284\n",
            "LotFrontage      0.351799\n",
            "LotArea          0.263843\n",
            "OverallQual      0.790982\n",
            "OverallCond     -0.077856\n",
            "YearBuilt        0.522897\n",
            "YearRemodAdd     0.507101\n",
            "MasVnrArea       0.477493\n",
            "BsmtFinSF1       0.386420\n",
            "BsmtFinSF2      -0.011378\n",
            "BsmtUnfSF        0.214479\n",
            "TotalBsmtSF      0.613581\n",
            "1stFlrSF         0.605852\n",
            "2ndFlrSF         0.319334\n",
            "LowQualFinSF    -0.025606\n",
            "GrLivArea        0.708624\n",
            "BsmtFullBath     0.227122\n",
            "BsmtHalfBath    -0.016844\n",
            "FullBath         0.560664\n",
            "HalfBath         0.284108\n",
            "BedroomAbvGr     0.168213\n",
            "KitchenAbvGr    -0.135907\n",
            "TotRmsAbvGrd     0.533723\n",
            "Fireplaces       0.466929\n",
            "GarageYrBlt      0.486362\n",
            "GarageCars       0.640409\n",
            "GarageArea       0.623431\n",
            "WoodDeckSF       0.324413\n",
            "OpenPorchSF      0.315856\n",
            "EnclosedPorch   -0.128578\n",
            "3SsnPorch        0.044584\n",
            "ScreenPorch      0.111447\n",
            "PoolArea         0.092404\n",
            "MiscVal         -0.021190\n",
            "MoSold           0.046432\n",
            "YrSold          -0.028923\n",
            "SalePrice        1.000000\n",
            "Name: SalePrice, dtype: float64\n"
          ]
        },
        {
          "output_type": "display_data",
          "data": {
            "text/plain": [
              "<Figure size 1000x600 with 0 Axes>"
            ]
          },
          "metadata": {}
        },
        {
          "output_type": "display_data",
          "data": {
            "text/plain": [
              "<Figure size 640x480 with 1 Axes>"
            ],
            "image/png": "[encoded data removed]"
          },
          "metadata": {}
        },
        {
          "output_type": "stream",
          "name": "stdout",
          "text": [
            "\n",
            "Summary:\n"
          ]
        }
      ]
    },
    {
      "source": [
        "**Reasoning**:\n",
        "The previous code block generated the necessary outputs, now I need to summarize the findings.\n",
        "\n"
      ],
      "cell_type": "markdown",
      "metadata": {
        "id": "ld2icF5GuY6l"
      }
    },
    {
      "source": [
        "print(\"\\nSummary:\")\n",
        "print(\"1. Data Shape: The training dataset contains 1460 rows and 81 columns.\")\n",
        "print(\"2. Data Types: The dataset contains a mix of numerical (int64, float64) and categorical (object) features.  Further investigation is needed to verify the appropriate data type for each feature.\")\n",
        "print(\"3. Missing Values: Several features have missing values, with 'PoolQC', 'MiscFeature', 'Alley', and 'Fence' having the highest percentages.  'LotFrontage' and 'MasVnrType' also have a substantial number of missing values. These missing values need to be addressed in data preprocessing.\")\n",
        "print(\"4. SalePrice Distribution: The 'SalePrice' distribution is right-skewed, indicating that there are more houses with lower sale prices and fewer houses with higher sale prices. There are some potential outliers at the higher end of the price range. Transformations like log transformation might be needed to normalize the target variable.\")\n",
        "print(\"5. Numerical Feature Relationships: Several numerical features show a correlation with 'SalePrice'. 'OverallQual', 'GrLivArea', 'GarageCars', 'GarageArea', and 'TotalBsmtSF' have strong positive correlations, while 'OverallCond' and 'KitchenAbvGr' have weak negative correlations.  Further analysis can identify other important numerical features.\")\n",
        "print(\"6. Categorical Feature Relationships: The example of 'OverallQual' shows its influence on 'SalePrice'.  A more detailed analysis of other categorical features is needed to understand their relationship with the target variable.\")\n",
        "print(\"7. Potential Issues: Missing values, skewed target variable, and potential outliers are key issues that need to be addressed during the data preprocessing phase. Highly correlated features might also need further investigation to avoid multicollinearity.\")"
      ],
      "cell_type": "code",
      "metadata": {
        "colab": {
          "base_uri": "https://localhost:8080/"
        },
        "id": "sykxNZUDuZKT",
        "outputId": "3120f995-b218-4998-8526-7df84e43c6ef"
      },
      "execution_count": 3,
      "outputs": [
        {
          "output_type": "stream",
          "name": "stdout",
          "text": [
            "\n",
            "Summary:\n",
            "1. Data Shape: The training dataset contains 1460 rows and 81 columns.\n",
            "2. Data Types: The dataset contains a mix of numerical (int64, float64) and categorical (object) features.  Further investigation is needed to verify the appropriate data type for each feature.\n",
            "3. Missing Values: Several features have missing values, with 'PoolQC', 'MiscFeature', 'Alley', and 'Fence' having the highest percentages.  'LotFrontage' and 'MasVnrType' also have a substantial number of missing values. These missing values need to be addressed in data preprocessing.\n",
            "4. SalePrice Distribution: The 'SalePrice' distribution is right-skewed, indicating that there are more houses with lower sale prices and fewer houses with higher sale prices. There are some potential outliers at the higher end of the price range. Transformations like log transformation might be needed to normalize the target variable.\n",
            "5. Numerical Feature Relationships: Several numerical features show a correlation with 'SalePrice'. 'OverallQual', 'GrLivArea', 'GarageCars', 'GarageArea', and 'TotalBsmtSF' have strong positive correlations, while 'OverallCond' and 'KitchenAbvGr' have weak negative correlations.  Further analysis can identify other important numerical features.\n",
            "6. Categorical Feature Relationships: The example of 'OverallQual' shows its influence on 'SalePrice'.  A more detailed analysis of other categorical features is needed to understand their relationship with the target variable.\n",
            "7. Potential Issues: Missing values, skewed target variable, and potential outliers are key issues that need to be addressed during the data preprocessing phase. Highly correlated features might also need further investigation to avoid multicollinearity.\n"
          ]
        }
      ]
    },
    {
      "source": [
        "## Data cleaning\n",
        "\n",
        "### Subtask:\n",
        "Clean the training and testing datasets by handling missing values and outliers.\n"
      ],
      "cell_type": "markdown",
      "metadata": {
        "id": "sXcu4YjjudT2"
      }
    },
    {
      "source": [
        "**Reasoning**:\n",
        "Impute missing values for numerical and categorical features in both training and testing datasets, handle outliers in 'SalePrice' of the training dataset, ensure data type consistency between the datasets, and remove duplicate rows in the training dataset.\n",
        "\n"
      ],
      "cell_type": "markdown",
      "metadata": {
        "id": "CQSAGF5eueCx"
      }
    },
    {
      "source": [
        "# Impute missing values\n",
        "for col in df_train.select_dtypes(include=['number']):\n",
        "    df_train[col] = df_train[col].fillna(df_train[col].median())\n",
        "    if col in df_test.columns:\n",
        "        df_test[col] = df_test[col].fillna(df_test[col].median())\n",
        "\n",
        "for col in df_train.select_dtypes(include=['object']):\n",
        "    df_train[col] = df_train[col].fillna('Missing')\n",
        "    if col in df_test.columns:\n",
        "        df_test[col] = df_test[col].fillna('Missing')\n",
        "\n",
        "# Outlier handling for 'SalePrice' in df_train\n",
        "q1 = df_train['SalePrice'].quantile(0.25)\n",
        "q3 = df_train['SalePrice'].quantile(0.75)\n",
        "iqr = q3 - q1\n",
        "upper_bound = q3 + 1.5 * iqr\n",
        "df_train['SalePrice'] = df_train['SalePrice'].clip(upper=upper_bound)\n",
        "\n",
        "# Data type consistency\n",
        "for col in df_train.columns:\n",
        "    if df_train[col].dtype != df_test[col].dtype and col in df_test.columns:\n",
        "        if df_train[col].dtype == 'object':\n",
        "            df_test[col] = df_test[col].astype('object')\n",
        "        else:\n",
        "            df_test[col] = df_test[col].astype(df_train[col].dtype)\n",
        "\n",
        "# Duplicate handling in df_train\n",
        "df_train.drop_duplicates(inplace=True)"
      ],
      "cell_type": "code",
      "metadata": {
        "colab": {
          "base_uri": "https://localhost:8080/",
          "height": 547
        },
        "id": "GHpwbFRSueSh",
        "outputId": "770cc095-3e21-4eba-bdbe-4baaf1c9a4ad"
      },
      "execution_count": 4,
      "outputs": [
        {
          "output_type": "error",
          "ename": "KeyError",
          "evalue": "'SalePrice'",
          "traceback": [
            "\u001b[0;31m---------------------------------------------------------------------------\u001b[0m",
            "\u001b[0;31mKeyError\u001b[0m                                  Traceback (most recent call last)",
            "\u001b[0;32m/usr/local/lib/python3.11/dist-packages/pandas/core/indexes/base.py\u001b[0m in \u001b[0;36mget_loc\u001b[0;34m(self, key)\u001b[0m\n\u001b[1;32m   3804\u001b[0m         \u001b[0;32mtry\u001b[0m\u001b[0;34m:\u001b[0m\u001b[0;34m\u001b[0m\u001b[0;34m\u001b[0m\u001b[0m\n\u001b[0;32m-> 3805\u001b[0;31m             \u001b[0;32mreturn\u001b[0m \u001b[0mself\u001b[0m\u001b[0;34m.\u001b[0m\u001b[0m_engine\u001b[0m\u001b[0;34m.\u001b[0m\u001b[0mget_loc\u001b[0m\u001b[0;34m(\u001b[0m\u001b[0mcasted_key\u001b[0m\u001b[0;34m)\u001b[0m\u001b[0;34m\u001b[0m\u001b[0;34m\u001b[0m\u001b[0m\n\u001b[0m\u001b[1;32m   3806\u001b[0m         \u001b[0;32mexcept\u001b[0m \u001b[0mKeyError\u001b[0m \u001b[0;32mas\u001b[0m \u001b[0merr\u001b[0m\u001b[0;34m:\u001b[0m\u001b[0;34m\u001b[0m\u001b[0;34m\u001b[0m\u001b[0m\n",
            "\u001b[0;32mindex.pyx\u001b[0m in \u001b[0;36mpandas._libs.index.IndexEngine.get_loc\u001b[0;34m()\u001b[0m\n",
            "\u001b[0;32mindex.pyx\u001b[0m in \u001b[0;36mpandas._libs.index.IndexEngine.get_loc\u001b[0;34m()\u001b[0m\n",
            "\u001b[0;32mpandas/_libs/hashtable_class_helper.pxi\u001b[0m in \u001b[0;36mpandas._libs.hashtable.PyObjectHashTable.get_item\u001b[0;34m()\u001b[0m\n",
            "\u001b[0;32mpandas/_libs/hashtable_class_helper.pxi\u001b[0m in \u001b[0;36mpandas._libs.hashtable.PyObjectHashTable.get_item\u001b[0;34m()\u001b[0m\n",
            "\u001b[0;31mKeyError\u001b[0m: 'SalePrice'",
            "\nThe above exception was the direct cause of the following exception:\n",
            "\u001b[0;31mKeyError\u001b[0m                                  Traceback (most recent call last)",
            "\u001b[0;32m<ipython-input-4-3956619799e7>\u001b[0m in \u001b[0;36m<cell line: 0>\u001b[0;34m()\u001b[0m\n\u001b[1;32m     19\u001b[0m \u001b[0;31m# Data type consistency\u001b[0m\u001b[0;34m\u001b[0m\u001b[0;34m\u001b[0m\u001b[0m\n\u001b[1;32m     20\u001b[0m \u001b[0;32mfor\u001b[0m \u001b[0mcol\u001b[0m \u001b[0;32min\u001b[0m \u001b[0mdf_train\u001b[0m\u001b[0;34m.\u001b[0m\u001b[0mcolumns\u001b[0m\u001b[0;34m:\u001b[0m\u001b[0;34m\u001b[0m\u001b[0;34m\u001b[0m\u001b[0m\n\u001b[0;32m---> 21\u001b[0;31m     \u001b[0;32mif\u001b[0m \u001b[0mdf_train\u001b[0m\u001b[0;34m[\u001b[0m\u001b[0mcol\u001b[0m\u001b[0;34m]\u001b[0m\u001b[0;34m.\u001b[0m\u001b[0mdtype\u001b[0m \u001b[0;34m!=\u001b[0m \u001b[0mdf_test\u001b[0m\u001b[0;34m[\u001b[0m\u001b[0mcol\u001b[0m\u001b[0;34m]\u001b[0m\u001b[0;34m.\u001b[0m\u001b[0mdtype\u001b[0m \u001b[0;32mand\u001b[0m \u001b[0mcol\u001b[0m \u001b[0;32min\u001b[0m \u001b[0mdf_test\u001b[0m\u001b[0;34m.\u001b[0m\u001b[0mcolumns\u001b[0m\u001b[0;34m:\u001b[0m\u001b[0;34m\u001b[0m\u001b[0;34m\u001b[0m\u001b[0m\n\u001b[0m\u001b[1;32m     22\u001b[0m         \u001b[0;32mif\u001b[0m \u001b[0mdf_train\u001b[0m\u001b[0;34m[\u001b[0m\u001b[0mcol\u001b[0m\u001b[0;34m]\u001b[0m\u001b[0;34m.\u001b[0m\u001b[0mdtype\u001b[0m \u001b[0;34m==\u001b[0m \u001b[0;34m'object'\u001b[0m\u001b[0;34m:\u001b[0m\u001b[0;34m\u001b[0m\u001b[0;34m\u001b[0m\u001b[0m\n\u001b[1;32m     23\u001b[0m             \u001b[0mdf_test\u001b[0m\u001b[0;34m[\u001b[0m\u001b[0mcol\u001b[0m\u001b[0;34m]\u001b[0m \u001b[0;34m=\u001b[0m \u001b[0mdf_test\u001b[0m\u001b[0;34m[\u001b[0m\u001b[0mcol\u001b[0m\u001b[0;34m]\u001b[0m\u001b[0;34m.\u001b[0m\u001b[0mastype\u001b[0m\u001b[0;34m(\u001b[0m\u001b[0;34m'object'\u001b[0m\u001b[0;34m)\u001b[0m\u001b[0;34m\u001b[0m\u001b[0;34m\u001b[0m\u001b[0m\n",
            "\u001b[0;32m/usr/local/lib/python3.11/dist-packages/pandas/core/frame.py\u001b[0m in \u001b[0;36m__getitem__\u001b[0;34m(self, key)\u001b[0m\n\u001b[1;32m   4100\u001b[0m             \u001b[0;32mif\u001b[0m \u001b[0mself\u001b[0m\u001b[0;34m.\u001b[0m\u001b[0mcolumns\u001b[0m\u001b[0;34m.\u001b[0m\u001b[0mnlevels\u001b[0m \u001b[0;34m>\u001b[0m \u001b[0;36m1\u001b[0m\u001b[0;34m:\u001b[0m\u001b[0;34m\u001b[0m\u001b[0;34m\u001b[0m\u001b[0m\n\u001b[1;32m   4101\u001b[0m                 \u001b[0;32mreturn\u001b[0m \u001b[0mself\u001b[0m\u001b[0;34m.\u001b[0m\u001b[0m_getitem_multilevel\u001b[0m\u001b[0;34m(\u001b[0m\u001b[0mkey\u001b[0m\u001b[0;34m)\u001b[0m\u001b[0;34m\u001b[0m\u001b[0;34m\u001b[0m\u001b[0m\n\u001b[0;32m-> 4102\u001b[0;31m             \u001b[0mindexer\u001b[0m \u001b[0;34m=\u001b[0m \u001b[0mself\u001b[0m\u001b[0;34m.\u001b[0m\u001b[0mcolumns\u001b[0m\u001b[0;34m.\u001b[0m\u001b[0mget_loc\u001b[0m\u001b[0;34m(\u001b[0m\u001b[0mkey\u001b[0m\u001b[0;34m)\u001b[0m\u001b[0;34m\u001b[0m\u001b[0;34m\u001b[0m\u001b[0m\n\u001b[0m\u001b[1;32m   4103\u001b[0m             \u001b[0;32mif\u001b[0m \u001b[0mis_integer\u001b[0m\u001b[0;34m(\u001b[0m\u001b[0mindexer\u001b[0m\u001b[0;34m)\u001b[0m\u001b[0;34m:\u001b[0m\u001b[0;34m\u001b[0m\u001b[0;34m\u001b[0m\u001b[0m\n\u001b[1;32m   4104\u001b[0m                 \u001b[0mindexer\u001b[0m \u001b[0;34m=\u001b[0m \u001b[0;34m[\u001b[0m\u001b[0mindexer\u001b[0m\u001b[0;34m]\u001b[0m\u001b[0;34m\u001b[0m\u001b[0;34m\u001b[0m\u001b[0m\n",
            "\u001b[0;32m/usr/local/lib/python3.11/dist-packages/pandas/core/indexes/base.py\u001b[0m in \u001b[0;36mget_loc\u001b[0;34m(self, key)\u001b[0m\n\u001b[1;32m   3810\u001b[0m             ):\n\u001b[1;32m   3811\u001b[0m                 \u001b[0;32mraise\u001b[0m \u001b[0mInvalidIndexError\u001b[0m\u001b[0;34m(\u001b[0m\u001b[0mkey\u001b[0m\u001b[0;34m)\u001b[0m\u001b[0;34m\u001b[0m\u001b[0;34m\u001b[0m\u001b[0m\n\u001b[0;32m-> 3812\u001b[0;31m             \u001b[0;32mraise\u001b[0m \u001b[0mKeyError\u001b[0m\u001b[0;34m(\u001b[0m\u001b[0mkey\u001b[0m\u001b[0;34m)\u001b[0m \u001b[0;32mfrom\u001b[0m \u001b[0merr\u001b[0m\u001b[0;34m\u001b[0m\u001b[0;34m\u001b[0m\u001b[0m\n\u001b[0m\u001b[1;32m   3813\u001b[0m         \u001b[0;32mexcept\u001b[0m \u001b[0mTypeError\u001b[0m\u001b[0;34m:\u001b[0m\u001b[0;34m\u001b[0m\u001b[0;34m\u001b[0m\u001b[0m\n\u001b[1;32m   3814\u001b[0m             \u001b[0;31m# If we have a listlike key, _check_indexing_error will raise\u001b[0m\u001b[0;34m\u001b[0m\u001b[0;34m\u001b[0m\u001b[0m\n",
            "\u001b[0;31mKeyError\u001b[0m: 'SalePrice'"
          ]
        }
      ]
    },
    {
      "source": [
        "**Reasoning**:\n",
        "The previous code failed due to a KeyError for 'SalePrice' in df_test.  This is because 'SalePrice' does not exist in df_test. The code should be modified to exclude 'SalePrice' from the data type consistency check.  Additionally, the outlier handling needs to be applied only to the training set and not the test set.\n",
        "\n"
      ],
      "cell_type": "markdown",
      "metadata": {
        "id": "YHjHlPCTuf3F"
      }
    },
    {
      "source": [
        "# Impute missing values\n",
        "for col in df_train.select_dtypes(include=['number']):\n",
        "    df_train[col] = df_train[col].fillna(df_train[col].median())\n",
        "    if col in df_test.columns:\n",
        "        df_test[col] = df_test[col].fillna(df_test[col].median())\n",
        "\n",
        "for col in df_train.select_dtypes(include=['object']):\n",
        "    df_train[col] = df_train[col].fillna('Missing')\n",
        "    if col in df_test.columns:\n",
        "        df_test[col] = df_test[col].fillna('Missing')\n",
        "\n",
        "# Outlier handling for 'SalePrice' in df_train\n",
        "q1 = df_train['SalePrice'].quantile(0.25)\n",
        "q3 = df_train['SalePrice'].quantile(0.75)\n",
        "iqr = q3 - q1\n",
        "upper_bound = q3 + 1.5 * iqr\n",
        "df_train['SalePrice'] = df_train['SalePrice'].clip(upper=upper_bound)\n",
        "\n",
        "# Data type consistency (excluding 'SalePrice')\n",
        "for col in df_train.columns:\n",
        "    if col != 'SalePrice' and col in df_test.columns:\n",
        "        if df_train[col].dtype != df_test[col].dtype:\n",
        "            if df_train[col].dtype == 'object':\n",
        "                df_test[col] = df_test[col].astype('object')\n",
        "            else:\n",
        "                df_test[col] = df_test[col].astype(df_train[col].dtype)\n",
        "\n",
        "# Duplicate handling in df_train\n",
        "df_train.drop_duplicates(inplace=True)"
      ],
      "cell_type": "code",
      "metadata": {
        "id": "LFuwpe1lugG3"
      },
      "execution_count": 5,
      "outputs": []
    },
    {
      "source": [
        "## Feature engineering\n",
        "\n",
        "### Subtask:\n",
        "Engineer new features from existing ones in both the training and test datasets.\n"
      ],
      "cell_type": "markdown",
      "metadata": {
        "id": "uB-ayG-eukGi"
      }
    },
    {
      "source": [
        "**Reasoning**:\n",
        "Apply log transformation to the 'SalePrice' column and other skewed numerical features in both datasets. Encode categorical features using one-hot encoding or label encoding. Create new features by combining existing ones. Scale numerical features using standardization.\n",
        "\n"
      ],
      "cell_type": "markdown",
      "metadata": {
        "id": "gGopZeIOulEf"
      }
    },
    {
      "source": [
        "import numpy as np\n",
        "from sklearn.preprocessing import StandardScaler\n",
        "\n",
        "# Log transformation\n",
        "numeric_cols = df_train.select_dtypes(include=['number']).columns\n",
        "skewed_cols = df_train[numeric_cols].apply(lambda x: abs(x.skew())).sort_values(ascending=False)\n",
        "high_skew = skewed_cols[skewed_cols > 0.5]\n",
        "for col in high_skew.index:\n",
        "    if col == 'SalePrice':\n",
        "        df_train['SalePrice'] = np.log1p(df_train['SalePrice'])\n",
        "    else:\n",
        "        df_train[col] = np.log1p(df_train[col])\n",
        "        if col in df_test.columns:\n",
        "            df_test[col] = np.log1p(df_test[col])\n",
        "\n",
        "# Categorical feature encoding (one-hot encoding)\n",
        "categorical_cols = df_train.select_dtypes(include=['object']).columns\n",
        "for col in categorical_cols:\n",
        "    dummies_train = pd.get_dummies(df_train[col], prefix=col, dummy_na=False)\n",
        "    df_train = pd.concat([df_train, dummies_train], axis=1)\n",
        "    df_train.drop(col, axis=1, inplace=True)\n",
        "    if col in df_test.columns:\n",
        "        dummies_test = pd.get_dummies(df_test[col], prefix=col, dummy_na=False)\n",
        "        df_test = pd.concat([df_test, dummies_test], axis=1)\n",
        "        df_test.drop(col, axis=1, inplace=True)\n",
        "\n",
        "# Feature combinations\n",
        "df_train['TotalSF'] = df_train['TotalBsmtSF'] + df_train['1stFlrSF'] + df_train['2ndFlrSF']\n",
        "if 'TotalBsmtSF' in df_test.columns and '1stFlrSF' in df_test.columns and '2ndFlrSF' in df_test.columns:\n",
        "  df_test['TotalSF'] = df_test['TotalBsmtSF'] + df_test['1stFlrSF'] + df_test['2ndFlrSF']\n",
        "\n",
        "# Scaling numerical features\n",
        "scaler = StandardScaler()\n",
        "numeric_cols = df_train.select_dtypes(include=['number']).columns\n",
        "df_train[numeric_cols] = scaler.fit_transform(df_train[numeric_cols])\n",
        "df_test[numeric_cols] = scaler.transform(df_test[numeric_cols])"
      ],
      "cell_type": "code",
      "metadata": {
        "colab": {
          "base_uri": "https://localhost:8080/",
          "height": 321
        },
        "id": "DeRS9sL0ulUP",
        "outputId": "5138cc92-6d10-4d5d-d216-f5b6640a910f"
      },
      "execution_count": 6,
      "outputs": [
        {
          "output_type": "error",
          "ename": "KeyError",
          "evalue": "\"['SalePrice'] not in index\"",
          "traceback": [
            "\u001b[0;31m---------------------------------------------------------------------------\u001b[0m",
            "\u001b[0;31mKeyError\u001b[0m                                  Traceback (most recent call last)",
            "\u001b[0;32m<ipython-input-6-442d913a2368>\u001b[0m in \u001b[0;36m<cell line: 0>\u001b[0;34m()\u001b[0m\n\u001b[1;32m     34\u001b[0m \u001b[0mnumeric_cols\u001b[0m \u001b[0;34m=\u001b[0m \u001b[0mdf_train\u001b[0m\u001b[0;34m.\u001b[0m\u001b[0mselect_dtypes\u001b[0m\u001b[0;34m(\u001b[0m\u001b[0minclude\u001b[0m\u001b[0;34m=\u001b[0m\u001b[0;34m[\u001b[0m\u001b[0;34m'number'\u001b[0m\u001b[0;34m]\u001b[0m\u001b[0;34m)\u001b[0m\u001b[0;34m.\u001b[0m\u001b[0mcolumns\u001b[0m\u001b[0;34m\u001b[0m\u001b[0;34m\u001b[0m\u001b[0m\n\u001b[1;32m     35\u001b[0m \u001b[0mdf_train\u001b[0m\u001b[0;34m[\u001b[0m\u001b[0mnumeric_cols\u001b[0m\u001b[0;34m]\u001b[0m \u001b[0;34m=\u001b[0m \u001b[0mscaler\u001b[0m\u001b[0;34m.\u001b[0m\u001b[0mfit_transform\u001b[0m\u001b[0;34m(\u001b[0m\u001b[0mdf_train\u001b[0m\u001b[0;34m[\u001b[0m\u001b[0mnumeric_cols\u001b[0m\u001b[0;34m]\u001b[0m\u001b[0;34m)\u001b[0m\u001b[0;34m\u001b[0m\u001b[0;34m\u001b[0m\u001b[0m\n\u001b[0;32m---> 36\u001b[0;31m \u001b[0mdf_test\u001b[0m\u001b[0;34m[\u001b[0m\u001b[0mnumeric_cols\u001b[0m\u001b[0;34m]\u001b[0m \u001b[0;34m=\u001b[0m \u001b[0mscaler\u001b[0m\u001b[0;34m.\u001b[0m\u001b[0mtransform\u001b[0m\u001b[0;34m(\u001b[0m\u001b[0mdf_test\u001b[0m\u001b[0;34m[\u001b[0m\u001b[0mnumeric_cols\u001b[0m\u001b[0;34m]\u001b[0m\u001b[0;34m)\u001b[0m\u001b[0;34m\u001b[0m\u001b[0;34m\u001b[0m\u001b[0m\n\u001b[0m",
            "\u001b[0;32m/usr/local/lib/python3.11/dist-packages/pandas/core/frame.py\u001b[0m in \u001b[0;36m__getitem__\u001b[0;34m(self, key)\u001b[0m\n\u001b[1;32m   4106\u001b[0m             \u001b[0;32mif\u001b[0m \u001b[0mis_iterator\u001b[0m\u001b[0;34m(\u001b[0m\u001b[0mkey\u001b[0m\u001b[0;34m)\u001b[0m\u001b[0;34m:\u001b[0m\u001b[0;34m\u001b[0m\u001b[0;34m\u001b[0m\u001b[0m\n\u001b[1;32m   4107\u001b[0m                 \u001b[0mkey\u001b[0m \u001b[0;34m=\u001b[0m \u001b[0mlist\u001b[0m\u001b[0;34m(\u001b[0m\u001b[0mkey\u001b[0m\u001b[0;34m)\u001b[0m\u001b[0;34m\u001b[0m\u001b[0;34m\u001b[0m\u001b[0m\n\u001b[0;32m-> 4108\u001b[0;31m             \u001b[0mindexer\u001b[0m \u001b[0;34m=\u001b[0m \u001b[0mself\u001b[0m\u001b[0;34m.\u001b[0m\u001b[0mcolumns\u001b[0m\u001b[0;34m.\u001b[0m\u001b[0m_get_indexer_strict\u001b[0m\u001b[0;34m(\u001b[0m\u001b[0mkey\u001b[0m\u001b[0;34m,\u001b[0m \u001b[0;34m\"columns\"\u001b[0m\u001b[0;34m)\u001b[0m\u001b[0;34m[\u001b[0m\u001b[0;36m1\u001b[0m\u001b[0;34m]\u001b[0m\u001b[0;34m\u001b[0m\u001b[0;34m\u001b[0m\u001b[0m\n\u001b[0m\u001b[1;32m   4109\u001b[0m \u001b[0;34m\u001b[0m\u001b[0m\n\u001b[1;32m   4110\u001b[0m         \u001b[0;31m# take() does not accept boolean indexers\u001b[0m\u001b[0;34m\u001b[0m\u001b[0;34m\u001b[0m\u001b[0m\n",
            "\u001b[0;32m/usr/local/lib/python3.11/dist-packages/pandas/core/indexes/base.py\u001b[0m in \u001b[0;36m_get_indexer_strict\u001b[0;34m(self, key, axis_name)\u001b[0m\n\u001b[1;32m   6198\u001b[0m             \u001b[0mkeyarr\u001b[0m\u001b[0;34m,\u001b[0m \u001b[0mindexer\u001b[0m\u001b[0;34m,\u001b[0m \u001b[0mnew_indexer\u001b[0m \u001b[0;34m=\u001b[0m \u001b[0mself\u001b[0m\u001b[0;34m.\u001b[0m\u001b[0m_reindex_non_unique\u001b[0m\u001b[0;34m(\u001b[0m\u001b[0mkeyarr\u001b[0m\u001b[0;34m)\u001b[0m\u001b[0;34m\u001b[0m\u001b[0;34m\u001b[0m\u001b[0m\n\u001b[1;32m   6199\u001b[0m \u001b[0;34m\u001b[0m\u001b[0m\n\u001b[0;32m-> 6200\u001b[0;31m         \u001b[0mself\u001b[0m\u001b[0;34m.\u001b[0m\u001b[0m_raise_if_missing\u001b[0m\u001b[0;34m(\u001b[0m\u001b[0mkeyarr\u001b[0m\u001b[0;34m,\u001b[0m \u001b[0mindexer\u001b[0m\u001b[0;34m,\u001b[0m \u001b[0maxis_name\u001b[0m\u001b[0;34m)\u001b[0m\u001b[0;34m\u001b[0m\u001b[0;34m\u001b[0m\u001b[0m\n\u001b[0m\u001b[1;32m   6201\u001b[0m \u001b[0;34m\u001b[0m\u001b[0m\n\u001b[1;32m   6202\u001b[0m         \u001b[0mkeyarr\u001b[0m \u001b[0;34m=\u001b[0m \u001b[0mself\u001b[0m\u001b[0;34m.\u001b[0m\u001b[0mtake\u001b[0m\u001b[0;34m(\u001b[0m\u001b[0mindexer\u001b[0m\u001b[0;34m)\u001b[0m\u001b[0;34m\u001b[0m\u001b[0;34m\u001b[0m\u001b[0m\n",
            "\u001b[0;32m/usr/local/lib/python3.11/dist-packages/pandas/core/indexes/base.py\u001b[0m in \u001b[0;36m_raise_if_missing\u001b[0;34m(self, key, indexer, axis_name)\u001b[0m\n\u001b[1;32m   6250\u001b[0m \u001b[0;34m\u001b[0m\u001b[0m\n\u001b[1;32m   6251\u001b[0m             \u001b[0mnot_found\u001b[0m \u001b[0;34m=\u001b[0m \u001b[0mlist\u001b[0m\u001b[0;34m(\u001b[0m\u001b[0mensure_index\u001b[0m\u001b[0;34m(\u001b[0m\u001b[0mkey\u001b[0m\u001b[0;34m)\u001b[0m\u001b[0;34m[\u001b[0m\u001b[0mmissing_mask\u001b[0m\u001b[0;34m.\u001b[0m\u001b[0mnonzero\u001b[0m\u001b[0;34m(\u001b[0m\u001b[0;34m)\u001b[0m\u001b[0;34m[\u001b[0m\u001b[0;36m0\u001b[0m\u001b[0;34m]\u001b[0m\u001b[0;34m]\u001b[0m\u001b[0;34m.\u001b[0m\u001b[0munique\u001b[0m\u001b[0;34m(\u001b[0m\u001b[0;34m)\u001b[0m\u001b[0;34m)\u001b[0m\u001b[0;34m\u001b[0m\u001b[0;34m\u001b[0m\u001b[0m\n\u001b[0;32m-> 6252\u001b[0;31m             \u001b[0;32mraise\u001b[0m \u001b[0mKeyError\u001b[0m\u001b[0;34m(\u001b[0m\u001b[0;34mf\"{not_found} not in index\"\u001b[0m\u001b[0;34m)\u001b[0m\u001b[0;34m\u001b[0m\u001b[0;34m\u001b[0m\u001b[0m\n\u001b[0m\u001b[1;32m   6253\u001b[0m \u001b[0;34m\u001b[0m\u001b[0m\n\u001b[1;32m   6254\u001b[0m     \u001b[0;34m@\u001b[0m\u001b[0moverload\u001b[0m\u001b[0;34m\u001b[0m\u001b[0;34m\u001b[0m\u001b[0m\n",
            "\u001b[0;31mKeyError\u001b[0m: \"['SalePrice'] not in index\""
          ]
        }
      ]
    },
    {
      "source": [
        "**Reasoning**:\n",
        "The error message indicates that 'SalePrice' is not in the index of `df_test`. This is expected because 'SalePrice' is the target variable and is only present in the training set.  The code needs to be corrected to exclude 'SalePrice' from the scaling operation on the test set.\n",
        "\n"
      ],
      "cell_type": "markdown",
      "metadata": {
        "id": "a_hVXQhuunvo"
      }
    },
    {
      "source": [
        "import numpy as np\n",
        "from sklearn.preprocessing import StandardScaler\n",
        "\n",
        "# Log transformation\n",
        "numeric_cols = df_train.select_dtypes(include=['number']).columns\n",
        "skewed_cols = df_train[numeric_cols].apply(lambda x: abs(x.skew())).sort_values(ascending=False)\n",
        "high_skew = skewed_cols[skewed_cols > 0.5]\n",
        "for col in high_skew.index:\n",
        "    if col == 'SalePrice':\n",
        "        df_train['SalePrice'] = np.log1p(df_train['SalePrice'])\n",
        "    else:\n",
        "        df_train[col] = np.log1p(df_train[col])\n",
        "        if col in df_test.columns:\n",
        "            df_test[col] = np.log1p(df_test[col])\n",
        "\n",
        "# Categorical feature encoding (one-hot encoding)\n",
        "categorical_cols = df_train.select_dtypes(include=['object']).columns\n",
        "for col in categorical_cols:\n",
        "    dummies_train = pd.get_dummies(df_train[col], prefix=col, dummy_na=False)\n",
        "    df_train = pd.concat([df_train, dummies_train], axis=1)\n",
        "    df_train.drop(col, axis=1, inplace=True)\n",
        "    if col in df_test.columns:\n",
        "        dummies_test = pd.get_dummies(df_test[col], prefix=col, dummy_na=False)\n",
        "        df_test = pd.concat([df_test, dummies_test], axis=1)\n",
        "        df_test.drop(col, axis=1, inplace=True)\n",
        "\n",
        "# Feature combinations\n",
        "df_train['TotalSF'] = df_train['TotalBsmtSF'] + df_train['1stFlrSF'] + df_train['2ndFlrSF']\n",
        "if 'TotalBsmtSF' in df_test.columns and '1stFlrSF' in df_test.columns and '2ndFlrSF' in df_test.columns:\n",
        "    df_test['TotalSF'] = df_test['TotalBsmtSF'] + df_test['1stFlrSF'] + df_test['2ndFlrSF']\n",
        "\n",
        "# Scaling numerical features\n",
        "scaler = StandardScaler()\n",
        "numeric_cols_train = df_train.select_dtypes(include=['number']).columns\n",
        "numeric_cols_test = df_test.select_dtypes(include=['number']).columns\n",
        "df_train[numeric_cols_train] = scaler.fit_transform(df_train[numeric_cols_train])\n",
        "\n",
        "# Exclude 'SalePrice' from scaling in the test set\n",
        "numeric_cols_test_scaled = [col for col in numeric_cols_test if col != 'SalePrice']\n",
        "df_test[numeric_cols_test_scaled] = scaler.transform(df_test[numeric_cols_test_scaled])"
      ],
      "cell_type": "code",
      "metadata": {
        "colab": {
          "base_uri": "https://localhost:8080/",
          "height": 391
        },
        "id": "PTZaGMnGun_Z",
        "outputId": "ca60744f-e3c7-43fd-eef4-47c9b8e3d614"
      },
      "execution_count": 7,
      "outputs": [
        {
          "output_type": "stream",
          "name": "stderr",
          "text": [
            "/usr/local/lib/python3.11/dist-packages/pandas/core/arraylike.py:399: RuntimeWarning: invalid value encountered in log1p\n",
            "  result = getattr(ufunc, method)(*inputs, **kwargs)\n"
          ]
        },
        {
          "output_type": "error",
          "ename": "ValueError",
          "evalue": "The feature names should match those that were passed during fit.\nFeature names seen at fit time, yet now missing:\n- SalePrice\n",
          "traceback": [
            "\u001b[0;31m---------------------------------------------------------------------------\u001b[0m",
            "\u001b[0;31mValueError\u001b[0m                                Traceback (most recent call last)",
            "\u001b[0;32m<ipython-input-7-6c245b77ae33>\u001b[0m in \u001b[0;36m<cell line: 0>\u001b[0;34m()\u001b[0m\n\u001b[1;32m     38\u001b[0m \u001b[0;31m# Exclude 'SalePrice' from scaling in the test set\u001b[0m\u001b[0;34m\u001b[0m\u001b[0;34m\u001b[0m\u001b[0m\n\u001b[1;32m     39\u001b[0m \u001b[0mnumeric_cols_test_scaled\u001b[0m \u001b[0;34m=\u001b[0m \u001b[0;34m[\u001b[0m\u001b[0mcol\u001b[0m \u001b[0;32mfor\u001b[0m \u001b[0mcol\u001b[0m \u001b[0;32min\u001b[0m \u001b[0mnumeric_cols_test\u001b[0m \u001b[0;32mif\u001b[0m \u001b[0mcol\u001b[0m \u001b[0;34m!=\u001b[0m \u001b[0;34m'SalePrice'\u001b[0m\u001b[0;34m]\u001b[0m\u001b[0;34m\u001b[0m\u001b[0;34m\u001b[0m\u001b[0m\n\u001b[0;32m---> 40\u001b[0;31m \u001b[0mdf_test\u001b[0m\u001b[0;34m[\u001b[0m\u001b[0mnumeric_cols_test_scaled\u001b[0m\u001b[0;34m]\u001b[0m \u001b[0;34m=\u001b[0m \u001b[0mscaler\u001b[0m\u001b[0;34m.\u001b[0m\u001b[0mtransform\u001b[0m\u001b[0;34m(\u001b[0m\u001b[0mdf_test\u001b[0m\u001b[0;34m[\u001b[0m\u001b[0mnumeric_cols_test_scaled\u001b[0m\u001b[0;34m]\u001b[0m\u001b[0;34m)\u001b[0m\u001b[0;34m\u001b[0m\u001b[0;34m\u001b[0m\u001b[0m\n\u001b[0m",
            "\u001b[0;32m/usr/local/lib/python3.11/dist-packages/sklearn/utils/_set_output.py\u001b[0m in \u001b[0;36mwrapped\u001b[0;34m(self, X, *args, **kwargs)\u001b[0m\n\u001b[1;32m    317\u001b[0m     \u001b[0;34m@\u001b[0m\u001b[0mwraps\u001b[0m\u001b[0;34m(\u001b[0m\u001b[0mf\u001b[0m\u001b[0;34m)\u001b[0m\u001b[0;34m\u001b[0m\u001b[0;34m\u001b[0m\u001b[0m\n\u001b[1;32m    318\u001b[0m     \u001b[0;32mdef\u001b[0m \u001b[0mwrapped\u001b[0m\u001b[0;34m(\u001b[0m\u001b[0mself\u001b[0m\u001b[0;34m,\u001b[0m \u001b[0mX\u001b[0m\u001b[0;34m,\u001b[0m \u001b[0;34m*\u001b[0m\u001b[0margs\u001b[0m\u001b[0;34m,\u001b[0m \u001b[0;34m**\u001b[0m\u001b[0mkwargs\u001b[0m\u001b[0;34m)\u001b[0m\u001b[0;34m:\u001b[0m\u001b[0;34m\u001b[0m\u001b[0;34m\u001b[0m\u001b[0m\n\u001b[0;32m--> 319\u001b[0;31m         \u001b[0mdata_to_wrap\u001b[0m \u001b[0;34m=\u001b[0m \u001b[0mf\u001b[0m\u001b[0;34m(\u001b[0m\u001b[0mself\u001b[0m\u001b[0;34m,\u001b[0m \u001b[0mX\u001b[0m\u001b[0;34m,\u001b[0m \u001b[0;34m*\u001b[0m\u001b[0margs\u001b[0m\u001b[0;34m,\u001b[0m \u001b[0;34m**\u001b[0m\u001b[0mkwargs\u001b[0m\u001b[0;34m)\u001b[0m\u001b[0;34m\u001b[0m\u001b[0;34m\u001b[0m\u001b[0m\n\u001b[0m\u001b[1;32m    320\u001b[0m         \u001b[0;32mif\u001b[0m \u001b[0misinstance\u001b[0m\u001b[0;34m(\u001b[0m\u001b[0mdata_to_wrap\u001b[0m\u001b[0;34m,\u001b[0m \u001b[0mtuple\u001b[0m\u001b[0;34m)\u001b[0m\u001b[0;34m:\u001b[0m\u001b[0;34m\u001b[0m\u001b[0;34m\u001b[0m\u001b[0m\n\u001b[1;32m    321\u001b[0m             \u001b[0;31m# only wrap the first output for cross decomposition\u001b[0m\u001b[0;34m\u001b[0m\u001b[0;34m\u001b[0m\u001b[0m\n",
            "\u001b[0;32m/usr/local/lib/python3.11/dist-packages/sklearn/preprocessing/_data.py\u001b[0m in \u001b[0;36mtransform\u001b[0;34m(self, X, copy)\u001b[0m\n\u001b[1;32m   1060\u001b[0m \u001b[0;34m\u001b[0m\u001b[0m\n\u001b[1;32m   1061\u001b[0m         \u001b[0mcopy\u001b[0m \u001b[0;34m=\u001b[0m \u001b[0mcopy\u001b[0m \u001b[0;32mif\u001b[0m \u001b[0mcopy\u001b[0m \u001b[0;32mis\u001b[0m \u001b[0;32mnot\u001b[0m \u001b[0;32mNone\u001b[0m \u001b[0;32melse\u001b[0m \u001b[0mself\u001b[0m\u001b[0;34m.\u001b[0m\u001b[0mcopy\u001b[0m\u001b[0;34m\u001b[0m\u001b[0;34m\u001b[0m\u001b[0m\n\u001b[0;32m-> 1062\u001b[0;31m         X = validate_data(\n\u001b[0m\u001b[1;32m   1063\u001b[0m             \u001b[0mself\u001b[0m\u001b[0;34m,\u001b[0m\u001b[0;34m\u001b[0m\u001b[0;34m\u001b[0m\u001b[0m\n\u001b[1;32m   1064\u001b[0m             \u001b[0mX\u001b[0m\u001b[0;34m,\u001b[0m\u001b[0;34m\u001b[0m\u001b[0;34m\u001b[0m\u001b[0m\n",
            "\u001b[0;32m/usr/local/lib/python3.11/dist-packages/sklearn/utils/validation.py\u001b[0m in \u001b[0;36mvalidate_data\u001b[0;34m(_estimator, X, y, reset, validate_separately, skip_check_array, **check_params)\u001b[0m\n\u001b[1;32m   2917\u001b[0m         \u001b[0mvalidated\u001b[0m\u001b[0;34m.\u001b[0m\u001b[0;34m\u001b[0m\u001b[0;34m\u001b[0m\u001b[0m\n\u001b[1;32m   2918\u001b[0m     \"\"\"\n\u001b[0;32m-> 2919\u001b[0;31m     \u001b[0m_check_feature_names\u001b[0m\u001b[0;34m(\u001b[0m\u001b[0m_estimator\u001b[0m\u001b[0;34m,\u001b[0m \u001b[0mX\u001b[0m\u001b[0;34m,\u001b[0m \u001b[0mreset\u001b[0m\u001b[0;34m=\u001b[0m\u001b[0mreset\u001b[0m\u001b[0;34m)\u001b[0m\u001b[0;34m\u001b[0m\u001b[0;34m\u001b[0m\u001b[0m\n\u001b[0m\u001b[1;32m   2920\u001b[0m     \u001b[0mtags\u001b[0m \u001b[0;34m=\u001b[0m \u001b[0mget_tags\u001b[0m\u001b[0;34m(\u001b[0m\u001b[0m_estimator\u001b[0m\u001b[0;34m)\u001b[0m\u001b[0;34m\u001b[0m\u001b[0;34m\u001b[0m\u001b[0m\n\u001b[1;32m   2921\u001b[0m     \u001b[0;32mif\u001b[0m \u001b[0my\u001b[0m \u001b[0;32mis\u001b[0m \u001b[0;32mNone\u001b[0m \u001b[0;32mand\u001b[0m \u001b[0mtags\u001b[0m\u001b[0;34m.\u001b[0m\u001b[0mtarget_tags\u001b[0m\u001b[0;34m.\u001b[0m\u001b[0mrequired\u001b[0m\u001b[0;34m:\u001b[0m\u001b[0;34m\u001b[0m\u001b[0;34m\u001b[0m\u001b[0m\n",
            "\u001b[0;32m/usr/local/lib/python3.11/dist-packages/sklearn/utils/validation.py\u001b[0m in \u001b[0;36m_check_feature_names\u001b[0;34m(estimator, X, reset)\u001b[0m\n\u001b[1;32m   2775\u001b[0m             \u001b[0mmessage\u001b[0m \u001b[0;34m+=\u001b[0m \u001b[0;34m\"Feature names must be in the same order as they were in fit.\\n\"\u001b[0m\u001b[0;34m\u001b[0m\u001b[0;34m\u001b[0m\u001b[0m\n\u001b[1;32m   2776\u001b[0m \u001b[0;34m\u001b[0m\u001b[0m\n\u001b[0;32m-> 2777\u001b[0;31m         \u001b[0;32mraise\u001b[0m \u001b[0mValueError\u001b[0m\u001b[0;34m(\u001b[0m\u001b[0mmessage\u001b[0m\u001b[0;34m)\u001b[0m\u001b[0;34m\u001b[0m\u001b[0;34m\u001b[0m\u001b[0m\n\u001b[0m\u001b[1;32m   2778\u001b[0m \u001b[0;34m\u001b[0m\u001b[0m\n\u001b[1;32m   2779\u001b[0m \u001b[0;34m\u001b[0m\u001b[0m\n",
            "\u001b[0;31mValueError\u001b[0m: The feature names should match those that were passed during fit.\nFeature names seen at fit time, yet now missing:\n- SalePrice\n"
          ]
        }
      ]
    },
    {
      "source": [
        "**Reasoning**:\n",
        "The error `ValueError: The feature names should match those that were passed during fit. Feature names seen at fit time, yet now missing: - SalePrice` arises because `SalePrice` was present during the fitting of the scaler on the training data, but it's absent in the test data.  The solution is to remove 'SalePrice' from the list of columns used to fit and transform the scaler.  Also, the warning `RuntimeWarning: invalid value encountered in log1p` suggests that there might be negative values or zero values in some numerical features before the log transformation.  We should make sure to handle those cases before applying the log transformation.\n",
        "\n"
      ],
      "cell_type": "markdown",
      "metadata": {
        "id": "i8_yR3XruqQT"
      }
    },
    {
      "source": [
        "import numpy as np\n",
        "from sklearn.preprocessing import StandardScaler\n",
        "\n",
        "# Log transformation, handle potential zero/negative values\n",
        "numeric_cols = df_train.select_dtypes(include=['number']).columns\n",
        "skewed_cols = df_train[numeric_cols].apply(lambda x: abs(x.skew())).sort_values(ascending=False)\n",
        "high_skew = skewed_cols[skewed_cols > 0.5]\n",
        "for col in high_skew.index:\n",
        "    if col == 'SalePrice':\n",
        "        df_train['SalePrice'] = np.log1p(df_train['SalePrice'])\n",
        "    else:\n",
        "        # Add a small constant to handle zero or negative values\n",
        "        df_train[col] = np.log1p(df_train[col] + 1e-6)\n",
        "        if col in df_test.columns:\n",
        "            df_test[col] = np.log1p(df_test[col] + 1e-6)\n",
        "\n",
        "# Categorical feature encoding (one-hot encoding)\n",
        "categorical_cols = df_train.select_dtypes(include=['object']).columns\n",
        "for col in categorical_cols:\n",
        "    dummies_train = pd.get_dummies(df_train[col], prefix=col, dummy_na=False)\n",
        "    df_train = pd.concat([df_train, dummies_train], axis=1)\n",
        "    df_train.drop(col, axis=1, inplace=True)\n",
        "    if col in df_test.columns:\n",
        "        dummies_test = pd.get_dummies(df_test[col], prefix=col, dummy_na=False)\n",
        "        df_test = pd.concat([df_test, dummies_test], axis=1)\n",
        "        df_test.drop(col, axis=1, inplace=True)\n",
        "\n",
        "# Feature combinations\n",
        "df_train['TotalSF'] = df_train['TotalBsmtSF'] + df_train['1stFlrSF'] + df_train['2ndFlrSF']\n",
        "if 'TotalBsmtSF' in df_test.columns and '1stFlrSF' in df_test.columns and '2ndFlrSF' in df_test.columns:\n",
        "    df_test['TotalSF'] = df_test['TotalBsmtSF'] + df_test['1stFlrSF'] + df_test['2ndFlrSF']\n",
        "\n",
        "# Scaling numerical features\n",
        "scaler = StandardScaler()\n",
        "numeric_cols_train = df_train.select_dtypes(include=['number']).columns\n",
        "# Remove 'SalePrice' from the list of columns to be scaled\n",
        "numeric_cols_train = [col for col in numeric_cols_train if col != 'SalePrice']\n",
        "df_train[numeric_cols_train] = scaler.fit_transform(df_train[numeric_cols_train])\n",
        "numeric_cols_test = df_test.select_dtypes(include=['number']).columns\n",
        "df_test[numeric_cols_test] = scaler.transform(df_test[numeric_cols_test])"
      ],
      "cell_type": "code",
      "metadata": {
        "colab": {
          "base_uri": "https://localhost:8080/"
        },
        "id": "NZygO-rJuqgG",
        "outputId": "04d72c70-00e5-4687-8f55-86c7900e243d"
      },
      "execution_count": 8,
      "outputs": [
        {
          "output_type": "stream",
          "name": "stderr",
          "text": [
            "/usr/local/lib/python3.11/dist-packages/pandas/core/arraylike.py:399: RuntimeWarning: invalid value encountered in log1p\n",
            "  result = getattr(ufunc, method)(*inputs, **kwargs)\n"
          ]
        }
      ]
    },
    {
      "source": [
        "## Data splitting\n",
        "\n",
        "### Subtask:\n",
        "Split the training data into training and validation sets.\n"
      ],
      "cell_type": "markdown",
      "metadata": {
        "id": "yH8wuG-tuuFF"
      }
    },
    {
      "source": [
        "**Reasoning**:\n",
        "Split the training data into training and validation sets using train_test_split, stratifying by quantiles of SalePrice.\n",
        "\n"
      ],
      "cell_type": "markdown",
      "metadata": {
        "id": "Si6Kt-sFuuzN"
      }
    },
    {
      "source": [
        "from sklearn.model_selection import train_test_split\n",
        "import pandas as pd\n",
        "\n",
        "# Separate features (X) and target variable (y)\n",
        "X = df_train.drop('SalePrice', axis=1)\n",
        "y = df_train['SalePrice']\n",
        "\n",
        "# Stratify based on quantiles of SalePrice\n",
        "y_quantiles = pd.qcut(df_train['SalePrice'], 4, labels=False)\n",
        "\n",
        "# Split the data into training and validation sets\n",
        "X_train, X_val, y_train, y_val = train_test_split(X, y, test_size=0.2, random_state=42, stratify=y_quantiles)"
      ],
      "cell_type": "code",
      "metadata": {
        "id": "wCd4hXCFuvC9"
      },
      "execution_count": 9,
      "outputs": []
    },
    {
      "source": [
        "## Model training\n",
        "\n",
        "### Subtask:\n",
        "Train a RandomForestRegressor model on the prepared training data.\n"
      ],
      "cell_type": "markdown",
      "metadata": {
        "id": "sTuk6IHOuyPC"
      }
    },
    {
      "source": [
        "**Reasoning**:\n",
        "Train a RandomForestRegressor model on the prepared training data.\n",
        "\n"
      ],
      "cell_type": "markdown",
      "metadata": {
        "id": "pkKIV67Cuyxu"
      }
    },
    {
      "source": [
        "from sklearn.ensemble import RandomForestRegressor\n",
        "\n",
        "# Instantiate the model\n",
        "rf_model = RandomForestRegressor(random_state=42)\n",
        "\n",
        "# Fit the model to the training data\n",
        "rf_model.fit(X_train.fillna(0), y_train)\n",
        "\n",
        "# Make predictions on the validation set\n",
        "y_pred = rf_model.predict(X_val.fillna(0))"
      ],
      "cell_type": "code",
      "metadata": {
        "id": "Zltzmiz1uzBd"
      },
      "execution_count": 10,
      "outputs": []
    },
    {
      "source": [
        "## Model optimization\n",
        "\n",
        "### Subtask:\n",
        "Optimize the RandomForestRegressor model by tuning its hyperparameters using GridSearchCV. Evaluate performance using RMSE on the log of SalePrice.\n"
      ],
      "cell_type": "markdown",
      "metadata": {
        "id": "6h_xkEWqu4nm"
      }
    },
    {
      "source": [
        "**Reasoning**:\n",
        "Optimize the RandomForestRegressor model using GridSearchCV and evaluate its performance using RMSE on the log of SalePrice.\n",
        "\n"
      ],
      "cell_type": "markdown",
      "metadata": {
        "id": "6AL79Ayju5gF"
      }
    },
    {
      "source": [
        "from sklearn.model_selection import GridSearchCV\n",
        "from sklearn.metrics import mean_squared_error\n",
        "import numpy as np\n",
        "\n",
        "# Define the parameter grid\n",
        "param_grid = {\n",
        "    'n_estimators': [50, 100, 200],\n",
        "    'max_depth': [None, 10, 20],\n",
        "    'min_samples_split': [2, 5, 10],\n",
        "    'min_samples_leaf': [1, 2, 4]\n",
        "}\n",
        "\n",
        "# Instantiate GridSearchCV\n",
        "grid_search = GridSearchCV(\n",
        "    estimator=RandomForestRegressor(random_state=42),\n",
        "    param_grid=param_grid,\n",
        "    scoring='neg_mean_squared_error',\n",
        "    cv=5,\n",
        "    n_jobs=-1\n",
        ")\n",
        "\n",
        "# Fit GridSearchCV on the training data\n",
        "grid_search.fit(X_train.fillna(0), y_train)\n",
        "\n",
        "# Get the best estimator\n",
        "best_rf_model = grid_search.best_estimator_\n",
        "\n",
        "# Predict on the validation set\n",
        "y_pred = best_rf_model.predict(X_val.fillna(0))\n",
        "\n",
        "# Calculate RMSE on the log of SalePrice\n",
        "rmse = np.sqrt(mean_squared_error(y_val, y_pred))\n",
        "\n",
        "print(f\"RMSE on log(SalePrice): {rmse}\")"
      ],
      "cell_type": "code",
      "metadata": {
        "colab": {
          "base_uri": "https://localhost:8080/"
        },
        "id": "z8PfT7geu53e",
        "outputId": "a4116ea0-a6f5-4113-e621-aeccae2078a7"
      },
      "execution_count": 11,
      "outputs": [
        {
          "output_type": "stream",
          "name": "stdout",
          "text": [
            "RMSE on log(SalePrice): 0.3634044925561619\n"
          ]
        }
      ]
    },
    {
      "source": [
        "## Model evaluation\n",
        "\n",
        "### Subtask:\n",
        "Predict SalePrice for the test dataset using the optimized model and format the predictions for submission.\n"
      ],
      "cell_type": "markdown",
      "metadata": {
        "id": "srXPiTD8yGi5"
      }
    },
    {
      "source": [
        "**Reasoning**:\n",
        "Predict SalePrice for the test dataset using the best model, create a submission dataframe, and save it to a CSV file.\n",
        "\n"
      ],
      "cell_type": "markdown",
      "metadata": {
        "id": "9AeAgzkryHCr"
      }
    },
    {
      "source": [
        "import numpy as np\n",
        "# Predict SalePrice for the test dataset\n",
        "y_pred_test = best_rf_model.predict(df_test.drop('Id', axis=1).fillna(0))\n",
        "\n",
        "# Reverse the log transformation\n",
        "y_pred_test_orig_scale = np.expm1(y_pred_test)\n",
        "\n",
        "\n",
        "# Create a submission DataFrame\n",
        "submission_df = pd.DataFrame({'Id': df_test['Id'].astype(int), 'SalePrice': y_pred_test_orig_scale})\n",
        "\n",
        "# Save the submission DataFrame to a CSV file\n",
        "submission_df.to_csv('submission.csv', index=False)\n",
        "\n",
        "# Examine the first few rows of the submission file\n",
        "display(submission_df.head())"
      ],
      "cell_type": "code",
      "metadata": {
        "colab": {
          "base_uri": "https://localhost:8080/",
          "height": 599
        },
        "id": "nZENHnwNyHSb",
        "outputId": "d7157371-24b4-430e-b1df-976ed69ffe49"
      },
      "execution_count": 12,
      "outputs": [
        {
          "output_type": "error",
          "ename": "ValueError",
          "evalue": "The feature names should match those that were passed during fit.\nFeature names unseen at fit time:\n- Exterior1st_Missing\n- Exterior2nd_Missing\n- Functional_Missing\n- KitchenQual_Missing\n- MSZoning_Missing\n- ...\nFeature names seen at fit time, yet now missing:\n- Condition2_RRAe\n- Condition2_RRAn\n- Condition2_RRNn\n- Electrical_Missing\n- Electrical_Mix\n- ...\n",
          "traceback": [
            "\u001b[0;31m---------------------------------------------------------------------------\u001b[0m",
            "\u001b[0;31mValueError\u001b[0m                                Traceback (most recent call last)",
            "\u001b[0;32m<ipython-input-12-2a71103dc276>\u001b[0m in \u001b[0;36m<cell line: 0>\u001b[0;34m()\u001b[0m\n\u001b[1;32m      1\u001b[0m \u001b[0;32mimport\u001b[0m \u001b[0mnumpy\u001b[0m \u001b[0;32mas\u001b[0m \u001b[0mnp\u001b[0m\u001b[0;34m\u001b[0m\u001b[0;34m\u001b[0m\u001b[0m\n\u001b[1;32m      2\u001b[0m \u001b[0;31m# Predict SalePrice for the test dataset\u001b[0m\u001b[0;34m\u001b[0m\u001b[0;34m\u001b[0m\u001b[0m\n\u001b[0;32m----> 3\u001b[0;31m \u001b[0my_pred_test\u001b[0m \u001b[0;34m=\u001b[0m \u001b[0mbest_rf_model\u001b[0m\u001b[0;34m.\u001b[0m\u001b[0mpredict\u001b[0m\u001b[0;34m(\u001b[0m\u001b[0mdf_test\u001b[0m\u001b[0;34m.\u001b[0m\u001b[0mdrop\u001b[0m\u001b[0;34m(\u001b[0m\u001b[0;34m'Id'\u001b[0m\u001b[0;34m,\u001b[0m \u001b[0maxis\u001b[0m\u001b[0;34m=\u001b[0m\u001b[0;36m1\u001b[0m\u001b[0;34m)\u001b[0m\u001b[0;34m.\u001b[0m\u001b[0mfillna\u001b[0m\u001b[0;34m(\u001b[0m\u001b[0;36m0\u001b[0m\u001b[0;34m)\u001b[0m\u001b[0;34m)\u001b[0m\u001b[0;34m\u001b[0m\u001b[0;34m\u001b[0m\u001b[0m\n\u001b[0m\u001b[1;32m      4\u001b[0m \u001b[0;34m\u001b[0m\u001b[0m\n\u001b[1;32m      5\u001b[0m \u001b[0;31m# Reverse the log transformation\u001b[0m\u001b[0;34m\u001b[0m\u001b[0;34m\u001b[0m\u001b[0m\n",
            "\u001b[0;32m/usr/local/lib/python3.11/dist-packages/sklearn/ensemble/_forest.py\u001b[0m in \u001b[0;36mpredict\u001b[0;34m(self, X)\u001b[0m\n\u001b[1;32m   1064\u001b[0m         \u001b[0mcheck_is_fitted\u001b[0m\u001b[0;34m(\u001b[0m\u001b[0mself\u001b[0m\u001b[0;34m)\u001b[0m\u001b[0;34m\u001b[0m\u001b[0;34m\u001b[0m\u001b[0m\n\u001b[1;32m   1065\u001b[0m         \u001b[0;31m# Check data\u001b[0m\u001b[0;34m\u001b[0m\u001b[0;34m\u001b[0m\u001b[0m\n\u001b[0;32m-> 1066\u001b[0;31m         \u001b[0mX\u001b[0m \u001b[0;34m=\u001b[0m \u001b[0mself\u001b[0m\u001b[0;34m.\u001b[0m\u001b[0m_validate_X_predict\u001b[0m\u001b[0;34m(\u001b[0m\u001b[0mX\u001b[0m\u001b[0;34m)\u001b[0m\u001b[0;34m\u001b[0m\u001b[0;34m\u001b[0m\u001b[0m\n\u001b[0m\u001b[1;32m   1067\u001b[0m \u001b[0;34m\u001b[0m\u001b[0m\n\u001b[1;32m   1068\u001b[0m         \u001b[0;31m# Assign chunk of trees to jobs\u001b[0m\u001b[0;34m\u001b[0m\u001b[0;34m\u001b[0m\u001b[0m\n",
            "\u001b[0;32m/usr/local/lib/python3.11/dist-packages/sklearn/ensemble/_forest.py\u001b[0m in \u001b[0;36m_validate_X_predict\u001b[0;34m(self, X)\u001b[0m\n\u001b[1;32m    636\u001b[0m             \u001b[0mensure_all_finite\u001b[0m \u001b[0;34m=\u001b[0m \u001b[0;32mTrue\u001b[0m\u001b[0;34m\u001b[0m\u001b[0;34m\u001b[0m\u001b[0m\n\u001b[1;32m    637\u001b[0m \u001b[0;34m\u001b[0m\u001b[0m\n\u001b[0;32m--> 638\u001b[0;31m         X = validate_data(\n\u001b[0m\u001b[1;32m    639\u001b[0m             \u001b[0mself\u001b[0m\u001b[0;34m,\u001b[0m\u001b[0;34m\u001b[0m\u001b[0;34m\u001b[0m\u001b[0m\n\u001b[1;32m    640\u001b[0m             \u001b[0mX\u001b[0m\u001b[0;34m,\u001b[0m\u001b[0;34m\u001b[0m\u001b[0;34m\u001b[0m\u001b[0m\n",
            "\u001b[0;32m/usr/local/lib/python3.11/dist-packages/sklearn/utils/validation.py\u001b[0m in \u001b[0;36mvalidate_data\u001b[0;34m(_estimator, X, y, reset, validate_separately, skip_check_array, **check_params)\u001b[0m\n\u001b[1;32m   2917\u001b[0m         \u001b[0mvalidated\u001b[0m\u001b[0;34m.\u001b[0m\u001b[0;34m\u001b[0m\u001b[0;34m\u001b[0m\u001b[0m\n\u001b[1;32m   2918\u001b[0m     \"\"\"\n\u001b[0;32m-> 2919\u001b[0;31m     \u001b[0m_check_feature_names\u001b[0m\u001b[0;34m(\u001b[0m\u001b[0m_estimator\u001b[0m\u001b[0;34m,\u001b[0m \u001b[0mX\u001b[0m\u001b[0;34m,\u001b[0m \u001b[0mreset\u001b[0m\u001b[0;34m=\u001b[0m\u001b[0mreset\u001b[0m\u001b[0;34m)\u001b[0m\u001b[0;34m\u001b[0m\u001b[0;34m\u001b[0m\u001b[0m\n\u001b[0m\u001b[1;32m   2920\u001b[0m     \u001b[0mtags\u001b[0m \u001b[0;34m=\u001b[0m \u001b[0mget_tags\u001b[0m\u001b[0;34m(\u001b[0m\u001b[0m_estimator\u001b[0m\u001b[0;34m)\u001b[0m\u001b[0;34m\u001b[0m\u001b[0;34m\u001b[0m\u001b[0m\n\u001b[1;32m   2921\u001b[0m     \u001b[0;32mif\u001b[0m \u001b[0my\u001b[0m \u001b[0;32mis\u001b[0m \u001b[0;32mNone\u001b[0m \u001b[0;32mand\u001b[0m \u001b[0mtags\u001b[0m\u001b[0;34m.\u001b[0m\u001b[0mtarget_tags\u001b[0m\u001b[0;34m.\u001b[0m\u001b[0mrequired\u001b[0m\u001b[0;34m:\u001b[0m\u001b[0;34m\u001b[0m\u001b[0;34m\u001b[0m\u001b[0m\n",
            "\u001b[0;32m/usr/local/lib/python3.11/dist-packages/sklearn/utils/validation.py\u001b[0m in \u001b[0;36m_check_feature_names\u001b[0;34m(estimator, X, reset)\u001b[0m\n\u001b[1;32m   2775\u001b[0m             \u001b[0mmessage\u001b[0m \u001b[0;34m+=\u001b[0m \u001b[0;34m\"Feature names must be in the same order as they were in fit.\\n\"\u001b[0m\u001b[0;34m\u001b[0m\u001b[0;34m\u001b[0m\u001b[0m\n\u001b[1;32m   2776\u001b[0m \u001b[0;34m\u001b[0m\u001b[0m\n\u001b[0;32m-> 2777\u001b[0;31m         \u001b[0;32mraise\u001b[0m \u001b[0mValueError\u001b[0m\u001b[0;34m(\u001b[0m\u001b[0mmessage\u001b[0m\u001b[0;34m)\u001b[0m\u001b[0;34m\u001b[0m\u001b[0;34m\u001b[0m\u001b[0m\n\u001b[0m\u001b[1;32m   2778\u001b[0m \u001b[0;34m\u001b[0m\u001b[0m\n\u001b[1;32m   2779\u001b[0m \u001b[0;34m\u001b[0m\u001b[0m\n",
            "\u001b[0;31mValueError\u001b[0m: The feature names should match those that were passed during fit.\nFeature names unseen at fit time:\n- Exterior1st_Missing\n- Exterior2nd_Missing\n- Functional_Missing\n- KitchenQual_Missing\n- MSZoning_Missing\n- ...\nFeature names seen at fit time, yet now missing:\n- Condition2_RRAe\n- Condition2_RRAn\n- Condition2_RRNn\n- Electrical_Missing\n- Electrical_Mix\n- ...\n"
          ]
        }
      ]
    },
    {
      "source": [
        "**Reasoning**:\n",
        "The error message indicates a mismatch in feature names between the training and test sets.  The test set has features not seen during training ('Exterior1st_Missing', etc.) and is missing features present during training ('Condition2_RRAe', etc.).  We need to align the columns of the test set with those of the training set.\n",
        "\n"
      ],
      "cell_type": "markdown",
      "metadata": {
        "id": "7-eccn7fyIxL"
      }
    },
    {
      "source": [
        "# Align columns of df_test with X_train\n",
        "missing_cols = set(X_train.columns) - set(df_test.columns)\n",
        "for c in missing_cols:\n",
        "    df_test[c] = 0\n",
        "extra_cols = set(df_test.columns) - set(X_train.columns)\n",
        "extra_cols.discard('Id') #Do not remove Id from df_test\n",
        "df_test = df_test[X_train.columns]\n",
        "y_pred_test = best_rf_model.predict(df_test.drop('Id', axis=1).fillna(0))\n",
        "y_pred_test_orig_scale = np.expm1(y_pred_test)\n",
        "submission_df = pd.DataFrame({'Id': df_test['Id'].astype(int), 'SalePrice': y_pred_test_orig_scale})\n",
        "submission_df.to_csv('submission.csv', index=False)\n",
        "display(submission_df.head())"
      ],
      "cell_type": "code",
      "metadata": {
        "colab": {
          "base_uri": "https://localhost:8080/",
          "height": 391
        },
        "id": "De6qk2xzyJBL",
        "outputId": "874a62c3-9859-4e92-ebb1-327c60ef3d53"
      },
      "execution_count": 13,
      "outputs": [
        {
          "output_type": "error",
          "ename": "ValueError",
          "evalue": "The feature names should match those that were passed during fit.\nFeature names seen at fit time, yet now missing:\n- Id\n",
          "traceback": [
            "\u001b[0;31m---------------------------------------------------------------------------\u001b[0m",
            "\u001b[0;31mValueError\u001b[0m                                Traceback (most recent call last)",
            "\u001b[0;32m<ipython-input-13-2733573d26cd>\u001b[0m in \u001b[0;36m<cell line: 0>\u001b[0;34m()\u001b[0m\n\u001b[1;32m      6\u001b[0m \u001b[0mextra_cols\u001b[0m\u001b[0;34m.\u001b[0m\u001b[0mdiscard\u001b[0m\u001b[0;34m(\u001b[0m\u001b[0;34m'Id'\u001b[0m\u001b[0;34m)\u001b[0m \u001b[0;31m#Do not remove Id from df_test\u001b[0m\u001b[0;34m\u001b[0m\u001b[0;34m\u001b[0m\u001b[0m\n\u001b[1;32m      7\u001b[0m \u001b[0mdf_test\u001b[0m \u001b[0;34m=\u001b[0m \u001b[0mdf_test\u001b[0m\u001b[0;34m[\u001b[0m\u001b[0mX_train\u001b[0m\u001b[0;34m.\u001b[0m\u001b[0mcolumns\u001b[0m\u001b[0;34m]\u001b[0m\u001b[0;34m\u001b[0m\u001b[0;34m\u001b[0m\u001b[0m\n\u001b[0;32m----> 8\u001b[0;31m \u001b[0my_pred_test\u001b[0m \u001b[0;34m=\u001b[0m \u001b[0mbest_rf_model\u001b[0m\u001b[0;34m.\u001b[0m\u001b[0mpredict\u001b[0m\u001b[0;34m(\u001b[0m\u001b[0mdf_test\u001b[0m\u001b[0;34m.\u001b[0m\u001b[0mdrop\u001b[0m\u001b[0;34m(\u001b[0m\u001b[0;34m'Id'\u001b[0m\u001b[0;34m,\u001b[0m \u001b[0maxis\u001b[0m\u001b[0;34m=\u001b[0m\u001b[0;36m1\u001b[0m\u001b[0;34m)\u001b[0m\u001b[0;34m.\u001b[0m\u001b[0mfillna\u001b[0m\u001b[0;34m(\u001b[0m\u001b[0;36m0\u001b[0m\u001b[0;34m)\u001b[0m\u001b[0;34m)\u001b[0m\u001b[0;34m\u001b[0m\u001b[0;34m\u001b[0m\u001b[0m\n\u001b[0m\u001b[1;32m      9\u001b[0m \u001b[0my_pred_test_orig_scale\u001b[0m \u001b[0;34m=\u001b[0m \u001b[0mnp\u001b[0m\u001b[0;34m.\u001b[0m\u001b[0mexpm1\u001b[0m\u001b[0;34m(\u001b[0m\u001b[0my_pred_test\u001b[0m\u001b[0;34m)\u001b[0m\u001b[0;34m\u001b[0m\u001b[0;34m\u001b[0m\u001b[0m\n\u001b[1;32m     10\u001b[0m \u001b[0msubmission_df\u001b[0m \u001b[0;34m=\u001b[0m \u001b[0mpd\u001b[0m\u001b[0;34m.\u001b[0m\u001b[0mDataFrame\u001b[0m\u001b[0;34m(\u001b[0m\u001b[0;34m{\u001b[0m\u001b[0;34m'Id'\u001b[0m\u001b[0;34m:\u001b[0m \u001b[0mdf_test\u001b[0m\u001b[0;34m[\u001b[0m\u001b[0;34m'Id'\u001b[0m\u001b[0;34m]\u001b[0m\u001b[0;34m.\u001b[0m\u001b[0mastype\u001b[0m\u001b[0;34m(\u001b[0m\u001b[0mint\u001b[0m\u001b[0;34m)\u001b[0m\u001b[0;34m,\u001b[0m \u001b[0;34m'SalePrice'\u001b[0m\u001b[0;34m:\u001b[0m \u001b[0my_pred_test_orig_scale\u001b[0m\u001b[0;34m}\u001b[0m\u001b[0;34m)\u001b[0m\u001b[0;34m\u001b[0m\u001b[0;34m\u001b[0m\u001b[0m\n",
            "\u001b[0;32m/usr/local/lib/python3.11/dist-packages/sklearn/ensemble/_forest.py\u001b[0m in \u001b[0;36mpredict\u001b[0;34m(self, X)\u001b[0m\n\u001b[1;32m   1064\u001b[0m         \u001b[0mcheck_is_fitted\u001b[0m\u001b[0;34m(\u001b[0m\u001b[0mself\u001b[0m\u001b[0;34m)\u001b[0m\u001b[0;34m\u001b[0m\u001b[0;34m\u001b[0m\u001b[0m\n\u001b[1;32m   1065\u001b[0m         \u001b[0;31m# Check data\u001b[0m\u001b[0;34m\u001b[0m\u001b[0;34m\u001b[0m\u001b[0m\n\u001b[0;32m-> 1066\u001b[0;31m         \u001b[0mX\u001b[0m \u001b[0;34m=\u001b[0m \u001b[0mself\u001b[0m\u001b[0;34m.\u001b[0m\u001b[0m_validate_X_predict\u001b[0m\u001b[0;34m(\u001b[0m\u001b[0mX\u001b[0m\u001b[0;34m)\u001b[0m\u001b[0;34m\u001b[0m\u001b[0;34m\u001b[0m\u001b[0m\n\u001b[0m\u001b[1;32m   1067\u001b[0m \u001b[0;34m\u001b[0m\u001b[0m\n\u001b[1;32m   1068\u001b[0m         \u001b[0;31m# Assign chunk of trees to jobs\u001b[0m\u001b[0;34m\u001b[0m\u001b[0;34m\u001b[0m\u001b[0m\n",
            "\u001b[0;32m/usr/local/lib/python3.11/dist-packages/sklearn/ensemble/_forest.py\u001b[0m in \u001b[0;36m_validate_X_predict\u001b[0;34m(self, X)\u001b[0m\n\u001b[1;32m    636\u001b[0m             \u001b[0mensure_all_finite\u001b[0m \u001b[0;34m=\u001b[0m \u001b[0;32mTrue\u001b[0m\u001b[0;34m\u001b[0m\u001b[0;34m\u001b[0m\u001b[0m\n\u001b[1;32m    637\u001b[0m \u001b[0;34m\u001b[0m\u001b[0m\n\u001b[0;32m--> 638\u001b[0;31m         X = validate_data(\n\u001b[0m\u001b[1;32m    639\u001b[0m             \u001b[0mself\u001b[0m\u001b[0;34m,\u001b[0m\u001b[0;34m\u001b[0m\u001b[0;34m\u001b[0m\u001b[0m\n\u001b[1;32m    640\u001b[0m             \u001b[0mX\u001b[0m\u001b[0;34m,\u001b[0m\u001b[0;34m\u001b[0m\u001b[0;34m\u001b[0m\u001b[0m\n",
            "\u001b[0;32m/usr/local/lib/python3.11/dist-packages/sklearn/utils/validation.py\u001b[0m in \u001b[0;36mvalidate_data\u001b[0;34m(_estimator, X, y, reset, validate_separately, skip_check_array, **check_params)\u001b[0m\n\u001b[1;32m   2917\u001b[0m         \u001b[0mvalidated\u001b[0m\u001b[0;34m.\u001b[0m\u001b[0;34m\u001b[0m\u001b[0;34m\u001b[0m\u001b[0m\n\u001b[1;32m   2918\u001b[0m     \"\"\"\n\u001b[0;32m-> 2919\u001b[0;31m     \u001b[0m_check_feature_names\u001b[0m\u001b[0;34m(\u001b[0m\u001b[0m_estimator\u001b[0m\u001b[0;34m,\u001b[0m \u001b[0mX\u001b[0m\u001b[0;34m,\u001b[0m \u001b[0mreset\u001b[0m\u001b[0;34m=\u001b[0m\u001b[0mreset\u001b[0m\u001b[0;34m)\u001b[0m\u001b[0;34m\u001b[0m\u001b[0;34m\u001b[0m\u001b[0m\n\u001b[0m\u001b[1;32m   2920\u001b[0m     \u001b[0mtags\u001b[0m \u001b[0;34m=\u001b[0m \u001b[0mget_tags\u001b[0m\u001b[0;34m(\u001b[0m\u001b[0m_estimator\u001b[0m\u001b[0;34m)\u001b[0m\u001b[0;34m\u001b[0m\u001b[0;34m\u001b[0m\u001b[0m\n\u001b[1;32m   2921\u001b[0m     \u001b[0;32mif\u001b[0m \u001b[0my\u001b[0m \u001b[0;32mis\u001b[0m \u001b[0;32mNone\u001b[0m \u001b[0;32mand\u001b[0m \u001b[0mtags\u001b[0m\u001b[0;34m.\u001b[0m\u001b[0mtarget_tags\u001b[0m\u001b[0;34m.\u001b[0m\u001b[0mrequired\u001b[0m\u001b[0;34m:\u001b[0m\u001b[0;34m\u001b[0m\u001b[0;34m\u001b[0m\u001b[0m\n",
            "\u001b[0;32m/usr/local/lib/python3.11/dist-packages/sklearn/utils/validation.py\u001b[0m in \u001b[0;36m_check_feature_names\u001b[0;34m(estimator, X, reset)\u001b[0m\n\u001b[1;32m   2775\u001b[0m             \u001b[0mmessage\u001b[0m \u001b[0;34m+=\u001b[0m \u001b[0;34m\"Feature names must be in the same order as they were in fit.\\n\"\u001b[0m\u001b[0;34m\u001b[0m\u001b[0;34m\u001b[0m\u001b[0m\n\u001b[1;32m   2776\u001b[0m \u001b[0;34m\u001b[0m\u001b[0m\n\u001b[0;32m-> 2777\u001b[0;31m         \u001b[0;32mraise\u001b[0m \u001b[0mValueError\u001b[0m\u001b[0;34m(\u001b[0m\u001b[0mmessage\u001b[0m\u001b[0;34m)\u001b[0m\u001b[0;34m\u001b[0m\u001b[0;34m\u001b[0m\u001b[0m\n\u001b[0m\u001b[1;32m   2778\u001b[0m \u001b[0;34m\u001b[0m\u001b[0m\n\u001b[1;32m   2779\u001b[0m \u001b[0;34m\u001b[0m\u001b[0m\n",
            "\u001b[0;31mValueError\u001b[0m: The feature names should match those that were passed during fit.\nFeature names seen at fit time, yet now missing:\n- Id\n"
          ]
        }
      ]
    },
    {
      "source": [
        "**Reasoning**:\n",
        "The error persists because 'Id' is present in the training features but not in the test features used for prediction.  The previous attempt to align columns failed to address this specific issue.  We need to remove 'Id' from both the training and test sets before prediction.\n",
        "\n"
      ],
      "cell_type": "markdown",
      "metadata": {
        "id": "CC9uBMUdyKgG"
      }
    },
    {
      "source": [
        "# Remove 'Id' column from both training and test sets\n",
        "X_train = X_train.drop('Id', axis=1)\n",
        "df_test = df_test.drop('Id', axis=1)\n",
        "\n",
        "# Align columns of df_test with X_train\n",
        "missing_cols = set(X_train.columns) - set(df_test.columns)\n",
        "for c in missing_cols:\n",
        "    df_test[c] = 0\n",
        "extra_cols = set(df_test.columns) - set(X_train.columns)\n",
        "df_test = df_test[X_train.columns]\n",
        "\n",
        "y_pred_test = best_rf_model.predict(df_test.fillna(0))\n",
        "y_pred_test_orig_scale = np.expm1(y_pred_test)\n",
        "submission_df = pd.DataFrame({'Id': df_test['Id'].astype(int), 'SalePrice': y_pred_test_orig_scale})\n",
        "submission_df.to_csv('submission.csv', index=False)\n",
        "display(submission_df.head())"
      ],
      "cell_type": "code",
      "metadata": {
        "colab": {
          "base_uri": "https://localhost:8080/",
          "height": 391
        },
        "id": "rWC-ljeWyKv2",
        "outputId": "34ba4dfc-027e-460a-fc11-dac58bc9ead0"
      },
      "execution_count": 14,
      "outputs": [
        {
          "output_type": "error",
          "ename": "ValueError",
          "evalue": "The feature names should match those that were passed during fit.\nFeature names seen at fit time, yet now missing:\n- Id\n",
          "traceback": [
            "\u001b[0;31m---------------------------------------------------------------------------\u001b[0m",
            "\u001b[0;31mValueError\u001b[0m                                Traceback (most recent call last)",
            "\u001b[0;32m<ipython-input-14-51a1efe449d0>\u001b[0m in \u001b[0;36m<cell line: 0>\u001b[0;34m()\u001b[0m\n\u001b[1;32m     10\u001b[0m \u001b[0mdf_test\u001b[0m \u001b[0;34m=\u001b[0m \u001b[0mdf_test\u001b[0m\u001b[0;34m[\u001b[0m\u001b[0mX_train\u001b[0m\u001b[0;34m.\u001b[0m\u001b[0mcolumns\u001b[0m\u001b[0;34m]\u001b[0m\u001b[0;34m\u001b[0m\u001b[0;34m\u001b[0m\u001b[0m\n\u001b[1;32m     11\u001b[0m \u001b[0;34m\u001b[0m\u001b[0m\n\u001b[0;32m---> 12\u001b[0;31m \u001b[0my_pred_test\u001b[0m \u001b[0;34m=\u001b[0m \u001b[0mbest_rf_model\u001b[0m\u001b[0;34m.\u001b[0m\u001b[0mpredict\u001b[0m\u001b[0;34m(\u001b[0m\u001b[0mdf_test\u001b[0m\u001b[0;34m.\u001b[0m\u001b[0mfillna\u001b[0m\u001b[0;34m(\u001b[0m\u001b[0;36m0\u001b[0m\u001b[0;34m)\u001b[0m\u001b[0;34m)\u001b[0m\u001b[0;34m\u001b[0m\u001b[0;34m\u001b[0m\u001b[0m\n\u001b[0m\u001b[1;32m     13\u001b[0m \u001b[0my_pred_test_orig_scale\u001b[0m \u001b[0;34m=\u001b[0m \u001b[0mnp\u001b[0m\u001b[0;34m.\u001b[0m\u001b[0mexpm1\u001b[0m\u001b[0;34m(\u001b[0m\u001b[0my_pred_test\u001b[0m\u001b[0;34m)\u001b[0m\u001b[0;34m\u001b[0m\u001b[0;34m\u001b[0m\u001b[0m\n\u001b[1;32m     14\u001b[0m \u001b[0msubmission_df\u001b[0m \u001b[0;34m=\u001b[0m \u001b[0mpd\u001b[0m\u001b[0;34m.\u001b[0m\u001b[0mDataFrame\u001b[0m\u001b[0;34m(\u001b[0m\u001b[0;34m{\u001b[0m\u001b[0;34m'Id'\u001b[0m\u001b[0;34m:\u001b[0m \u001b[0mdf_test\u001b[0m\u001b[0;34m[\u001b[0m\u001b[0;34m'Id'\u001b[0m\u001b[0;34m]\u001b[0m\u001b[0;34m.\u001b[0m\u001b[0mastype\u001b[0m\u001b[0;34m(\u001b[0m\u001b[0mint\u001b[0m\u001b[0;34m)\u001b[0m\u001b[0;34m,\u001b[0m \u001b[0;34m'SalePrice'\u001b[0m\u001b[0;34m:\u001b[0m \u001b[0my_pred_test_orig_scale\u001b[0m\u001b[0;34m}\u001b[0m\u001b[0;34m)\u001b[0m\u001b[0;34m\u001b[0m\u001b[0;34m\u001b[0m\u001b[0m\n",
            "\u001b[0;32m/usr/local/lib/python3.11/dist-packages/sklearn/ensemble/_forest.py\u001b[0m in \u001b[0;36mpredict\u001b[0;34m(self, X)\u001b[0m\n\u001b[1;32m   1064\u001b[0m         \u001b[0mcheck_is_fitted\u001b[0m\u001b[0;34m(\u001b[0m\u001b[0mself\u001b[0m\u001b[0;34m)\u001b[0m\u001b[0;34m\u001b[0m\u001b[0;34m\u001b[0m\u001b[0m\n\u001b[1;32m   1065\u001b[0m         \u001b[0;31m# Check data\u001b[0m\u001b[0;34m\u001b[0m\u001b[0;34m\u001b[0m\u001b[0m\n\u001b[0;32m-> 1066\u001b[0;31m         \u001b[0mX\u001b[0m \u001b[0;34m=\u001b[0m \u001b[0mself\u001b[0m\u001b[0;34m.\u001b[0m\u001b[0m_validate_X_predict\u001b[0m\u001b[0;34m(\u001b[0m\u001b[0mX\u001b[0m\u001b[0;34m)\u001b[0m\u001b[0;34m\u001b[0m\u001b[0;34m\u001b[0m\u001b[0m\n\u001b[0m\u001b[1;32m   1067\u001b[0m \u001b[0;34m\u001b[0m\u001b[0m\n\u001b[1;32m   1068\u001b[0m         \u001b[0;31m# Assign chunk of trees to jobs\u001b[0m\u001b[0;34m\u001b[0m\u001b[0;34m\u001b[0m\u001b[0m\n",
            "\u001b[0;32m/usr/local/lib/python3.11/dist-packages/sklearn/ensemble/_forest.py\u001b[0m in \u001b[0;36m_validate_X_predict\u001b[0;34m(self, X)\u001b[0m\n\u001b[1;32m    636\u001b[0m             \u001b[0mensure_all_finite\u001b[0m \u001b[0;34m=\u001b[0m \u001b[0;32mTrue\u001b[0m\u001b[0;34m\u001b[0m\u001b[0;34m\u001b[0m\u001b[0m\n\u001b[1;32m    637\u001b[0m \u001b[0;34m\u001b[0m\u001b[0m\n\u001b[0;32m--> 638\u001b[0;31m         X = validate_data(\n\u001b[0m\u001b[1;32m    639\u001b[0m             \u001b[0mself\u001b[0m\u001b[0;34m,\u001b[0m\u001b[0;34m\u001b[0m\u001b[0;34m\u001b[0m\u001b[0m\n\u001b[1;32m    640\u001b[0m             \u001b[0mX\u001b[0m\u001b[0;34m,\u001b[0m\u001b[0;34m\u001b[0m\u001b[0;34m\u001b[0m\u001b[0m\n",
            "\u001b[0;32m/usr/local/lib/python3.11/dist-packages/sklearn/utils/validation.py\u001b[0m in \u001b[0;36mvalidate_data\u001b[0;34m(_estimator, X, y, reset, validate_separately, skip_check_array, **check_params)\u001b[0m\n\u001b[1;32m   2917\u001b[0m         \u001b[0mvalidated\u001b[0m\u001b[0;34m.\u001b[0m\u001b[0;34m\u001b[0m\u001b[0;34m\u001b[0m\u001b[0m\n\u001b[1;32m   2918\u001b[0m     \"\"\"\n\u001b[0;32m-> 2919\u001b[0;31m     \u001b[0m_check_feature_names\u001b[0m\u001b[0;34m(\u001b[0m\u001b[0m_estimator\u001b[0m\u001b[0;34m,\u001b[0m \u001b[0mX\u001b[0m\u001b[0;34m,\u001b[0m \u001b[0mreset\u001b[0m\u001b[0;34m=\u001b[0m\u001b[0mreset\u001b[0m\u001b[0;34m)\u001b[0m\u001b[0;34m\u001b[0m\u001b[0;34m\u001b[0m\u001b[0m\n\u001b[0m\u001b[1;32m   2920\u001b[0m     \u001b[0mtags\u001b[0m \u001b[0;34m=\u001b[0m \u001b[0mget_tags\u001b[0m\u001b[0;34m(\u001b[0m\u001b[0m_estimator\u001b[0m\u001b[0;34m)\u001b[0m\u001b[0;34m\u001b[0m\u001b[0;34m\u001b[0m\u001b[0m\n\u001b[1;32m   2921\u001b[0m     \u001b[0;32mif\u001b[0m \u001b[0my\u001b[0m \u001b[0;32mis\u001b[0m \u001b[0;32mNone\u001b[0m \u001b[0;32mand\u001b[0m \u001b[0mtags\u001b[0m\u001b[0;34m.\u001b[0m\u001b[0mtarget_tags\u001b[0m\u001b[0;34m.\u001b[0m\u001b[0mrequired\u001b[0m\u001b[0;34m:\u001b[0m\u001b[0;34m\u001b[0m\u001b[0;34m\u001b[0m\u001b[0m\n",
            "\u001b[0;32m/usr/local/lib/python3.11/dist-packages/sklearn/utils/validation.py\u001b[0m in \u001b[0;36m_check_feature_names\u001b[0;34m(estimator, X, reset)\u001b[0m\n\u001b[1;32m   2775\u001b[0m             \u001b[0mmessage\u001b[0m \u001b[0;34m+=\u001b[0m \u001b[0;34m\"Feature names must be in the same order as they were in fit.\\n\"\u001b[0m\u001b[0;34m\u001b[0m\u001b[0;34m\u001b[0m\u001b[0m\n\u001b[1;32m   2776\u001b[0m \u001b[0;34m\u001b[0m\u001b[0m\n\u001b[0;32m-> 2777\u001b[0;31m         \u001b[0;32mraise\u001b[0m \u001b[0mValueError\u001b[0m\u001b[0;34m(\u001b[0m\u001b[0mmessage\u001b[0m\u001b[0;34m)\u001b[0m\u001b[0;34m\u001b[0m\u001b[0;34m\u001b[0m\u001b[0m\n\u001b[0m\u001b[1;32m   2778\u001b[0m \u001b[0;34m\u001b[0m\u001b[0m\n\u001b[1;32m   2779\u001b[0m \u001b[0;34m\u001b[0m\u001b[0m\n",
            "\u001b[0;31mValueError\u001b[0m: The feature names should match those that were passed during fit.\nFeature names seen at fit time, yet now missing:\n- Id\n"
          ]
        }
      ]
    },
    {
      "source": [
        "**Reasoning**:\n",
        "The error message \"Feature names seen at fit time, yet now missing: - Id\" indicates that 'Id' was part of the training data used to fit the model, but it's now missing when trying to predict on the test set.  The previous attempts to remove 'Id' were not successful.  We should try again to remove 'Id' from the dataframe `df_test` before predicting.  The submission dataframe should be created using the original 'Id' column from the original `df_test`.\n",
        "\n"
      ],
      "cell_type": "markdown",
      "metadata": {
        "id": "WiqAnqofyMaw"
      }
    },
    {
      "source": [
        "#Store the original Id column\n",
        "original_ids = df_test['Id']\n",
        "\n",
        "# Remove 'Id' column from  the test set\n",
        "df_test = df_test.drop('Id', axis=1)\n",
        "\n",
        "\n",
        "# Align columns of df_test with X_train\n",
        "missing_cols = set(X_train.columns) - set(df_test.columns)\n",
        "for c in missing_cols:\n",
        "    df_test[c] = 0\n",
        "extra_cols = set(df_test.columns) - set(X_train.columns)\n",
        "df_test = df_test[X_train.columns]\n",
        "\n",
        "\n",
        "y_pred_test = best_rf_model.predict(df_test.fillna(0))\n",
        "y_pred_test_orig_scale = np.expm1(y_pred_test)\n",
        "submission_df = pd.DataFrame({'Id': original_ids.astype(int), 'SalePrice': y_pred_test_orig_scale})\n",
        "submission_df.to_csv('submission.csv', index=False)\n",
        "display(submission_df.head())"
      ],
      "cell_type": "code",
      "metadata": {
        "colab": {
          "base_uri": "https://localhost:8080/",
          "height": 547
        },
        "id": "vd8z1-XJyMqh",
        "outputId": "d2cb500c-bb10-4fd3-80ba-12ee89929a1b"
      },
      "execution_count": 15,
      "outputs": [
        {
          "output_type": "error",
          "ename": "KeyError",
          "evalue": "'Id'",
          "traceback": [
            "\u001b[0;31m---------------------------------------------------------------------------\u001b[0m",
            "\u001b[0;31mKeyError\u001b[0m                                  Traceback (most recent call last)",
            "\u001b[0;32m/usr/local/lib/python3.11/dist-packages/pandas/core/indexes/base.py\u001b[0m in \u001b[0;36mget_loc\u001b[0;34m(self, key)\u001b[0m\n\u001b[1;32m   3804\u001b[0m         \u001b[0;32mtry\u001b[0m\u001b[0;34m:\u001b[0m\u001b[0;34m\u001b[0m\u001b[0;34m\u001b[0m\u001b[0m\n\u001b[0;32m-> 3805\u001b[0;31m             \u001b[0;32mreturn\u001b[0m \u001b[0mself\u001b[0m\u001b[0;34m.\u001b[0m\u001b[0m_engine\u001b[0m\u001b[0;34m.\u001b[0m\u001b[0mget_loc\u001b[0m\u001b[0;34m(\u001b[0m\u001b[0mcasted_key\u001b[0m\u001b[0;34m)\u001b[0m\u001b[0;34m\u001b[0m\u001b[0;34m\u001b[0m\u001b[0m\n\u001b[0m\u001b[1;32m   3806\u001b[0m         \u001b[0;32mexcept\u001b[0m \u001b[0mKeyError\u001b[0m \u001b[0;32mas\u001b[0m \u001b[0merr\u001b[0m\u001b[0;34m:\u001b[0m\u001b[0;34m\u001b[0m\u001b[0;34m\u001b[0m\u001b[0m\n",
            "\u001b[0;32mindex.pyx\u001b[0m in \u001b[0;36mpandas._libs.index.IndexEngine.get_loc\u001b[0;34m()\u001b[0m\n",
            "\u001b[0;32mindex.pyx\u001b[0m in \u001b[0;36mpandas._libs.index.IndexEngine.get_loc\u001b[0;34m()\u001b[0m\n",
            "\u001b[0;32mpandas/_libs/hashtable_class_helper.pxi\u001b[0m in \u001b[0;36mpandas._libs.hashtable.PyObjectHashTable.get_item\u001b[0;34m()\u001b[0m\n",
            "\u001b[0;32mpandas/_libs/hashtable_class_helper.pxi\u001b[0m in \u001b[0;36mpandas._libs.hashtable.PyObjectHashTable.get_item\u001b[0;34m()\u001b[0m\n",
            "\u001b[0;31mKeyError\u001b[0m: 'Id'",
            "\nThe above exception was the direct cause of the following exception:\n",
            "\u001b[0;31mKeyError\u001b[0m                                  Traceback (most recent call last)",
            "\u001b[0;32m<ipython-input-15-5d5102f33e1a>\u001b[0m in \u001b[0;36m<cell line: 0>\u001b[0;34m()\u001b[0m\n\u001b[1;32m      1\u001b[0m \u001b[0;31m#Store the original Id column\u001b[0m\u001b[0;34m\u001b[0m\u001b[0;34m\u001b[0m\u001b[0m\n\u001b[0;32m----> 2\u001b[0;31m \u001b[0moriginal_ids\u001b[0m \u001b[0;34m=\u001b[0m \u001b[0mdf_test\u001b[0m\u001b[0;34m[\u001b[0m\u001b[0;34m'Id'\u001b[0m\u001b[0;34m]\u001b[0m\u001b[0;34m\u001b[0m\u001b[0;34m\u001b[0m\u001b[0m\n\u001b[0m\u001b[1;32m      3\u001b[0m \u001b[0;34m\u001b[0m\u001b[0m\n\u001b[1;32m      4\u001b[0m \u001b[0;31m# Remove 'Id' column from  the test set\u001b[0m\u001b[0;34m\u001b[0m\u001b[0;34m\u001b[0m\u001b[0m\n\u001b[1;32m      5\u001b[0m \u001b[0mdf_test\u001b[0m \u001b[0;34m=\u001b[0m \u001b[0mdf_test\u001b[0m\u001b[0;34m.\u001b[0m\u001b[0mdrop\u001b[0m\u001b[0;34m(\u001b[0m\u001b[0;34m'Id'\u001b[0m\u001b[0;34m,\u001b[0m \u001b[0maxis\u001b[0m\u001b[0;34m=\u001b[0m\u001b[0;36m1\u001b[0m\u001b[0;34m)\u001b[0m\u001b[0;34m\u001b[0m\u001b[0;34m\u001b[0m\u001b[0m\n",
            "\u001b[0;32m/usr/local/lib/python3.11/dist-packages/pandas/core/frame.py\u001b[0m in \u001b[0;36m__getitem__\u001b[0;34m(self, key)\u001b[0m\n\u001b[1;32m   4100\u001b[0m             \u001b[0;32mif\u001b[0m \u001b[0mself\u001b[0m\u001b[0;34m.\u001b[0m\u001b[0mcolumns\u001b[0m\u001b[0;34m.\u001b[0m\u001b[0mnlevels\u001b[0m \u001b[0;34m>\u001b[0m \u001b[0;36m1\u001b[0m\u001b[0;34m:\u001b[0m\u001b[0;34m\u001b[0m\u001b[0;34m\u001b[0m\u001b[0m\n\u001b[1;32m   4101\u001b[0m                 \u001b[0;32mreturn\u001b[0m \u001b[0mself\u001b[0m\u001b[0;34m.\u001b[0m\u001b[0m_getitem_multilevel\u001b[0m\u001b[0;34m(\u001b[0m\u001b[0mkey\u001b[0m\u001b[0;34m)\u001b[0m\u001b[0;34m\u001b[0m\u001b[0;34m\u001b[0m\u001b[0m\n\u001b[0;32m-> 4102\u001b[0;31m             \u001b[0mindexer\u001b[0m \u001b[0;34m=\u001b[0m \u001b[0mself\u001b[0m\u001b[0;34m.\u001b[0m\u001b[0mcolumns\u001b[0m\u001b[0;34m.\u001b[0m\u001b[0mget_loc\u001b[0m\u001b[0;34m(\u001b[0m\u001b[0mkey\u001b[0m\u001b[0;34m)\u001b[0m\u001b[0;34m\u001b[0m\u001b[0;34m\u001b[0m\u001b[0m\n\u001b[0m\u001b[1;32m   4103\u001b[0m             \u001b[0;32mif\u001b[0m \u001b[0mis_integer\u001b[0m\u001b[0;34m(\u001b[0m\u001b[0mindexer\u001b[0m\u001b[0;34m)\u001b[0m\u001b[0;34m:\u001b[0m\u001b[0;34m\u001b[0m\u001b[0;34m\u001b[0m\u001b[0m\n\u001b[1;32m   4104\u001b[0m                 \u001b[0mindexer\u001b[0m \u001b[0;34m=\u001b[0m \u001b[0;34m[\u001b[0m\u001b[0mindexer\u001b[0m\u001b[0;34m]\u001b[0m\u001b[0;34m\u001b[0m\u001b[0;34m\u001b[0m\u001b[0m\n",
            "\u001b[0;32m/usr/local/lib/python3.11/dist-packages/pandas/core/indexes/base.py\u001b[0m in \u001b[0;36mget_loc\u001b[0;34m(self, key)\u001b[0m\n\u001b[1;32m   3810\u001b[0m             ):\n\u001b[1;32m   3811\u001b[0m                 \u001b[0;32mraise\u001b[0m \u001b[0mInvalidIndexError\u001b[0m\u001b[0;34m(\u001b[0m\u001b[0mkey\u001b[0m\u001b[0;34m)\u001b[0m\u001b[0;34m\u001b[0m\u001b[0;34m\u001b[0m\u001b[0m\n\u001b[0;32m-> 3812\u001b[0;31m             \u001b[0;32mraise\u001b[0m \u001b[0mKeyError\u001b[0m\u001b[0;34m(\u001b[0m\u001b[0mkey\u001b[0m\u001b[0;34m)\u001b[0m \u001b[0;32mfrom\u001b[0m \u001b[0merr\u001b[0m\u001b[0;34m\u001b[0m\u001b[0;34m\u001b[0m\u001b[0m\n\u001b[0m\u001b[1;32m   3813\u001b[0m         \u001b[0;32mexcept\u001b[0m \u001b[0mTypeError\u001b[0m\u001b[0;34m:\u001b[0m\u001b[0;34m\u001b[0m\u001b[0;34m\u001b[0m\u001b[0m\n\u001b[1;32m   3814\u001b[0m             \u001b[0;31m# If we have a listlike key, _check_indexing_error will raise\u001b[0m\u001b[0;34m\u001b[0m\u001b[0;34m\u001b[0m\u001b[0m\n",
            "\u001b[0;31mKeyError\u001b[0m: 'Id'"
          ]
        }
      ]
    },
    {
      "source": [
        "**Reasoning**:\n",
        "The KeyError 'Id' suggests that the 'Id' column was already removed from `df_test` in a previous step. We need to use the `original_ids` which stores the Id column from `df_test` before the column was removed.\n",
        "\n"
      ],
      "cell_type": "markdown",
      "metadata": {
        "id": "yaOhBGmvyN8Z"
      }
    },
    {
      "source": [
        "# Align columns of df_test with X_train\n",
        "missing_cols = set(X_train.columns) - set(df_test.columns)\n",
        "for c in missing_cols:\n",
        "    df_test[c] = 0\n",
        "extra_cols = set(df_test.columns) - set(X_train.columns)\n",
        "df_test = df_test[X_train.columns]\n",
        "\n",
        "y_pred_test = best_rf_model.predict(df_test.fillna(0))\n",
        "y_pred_test_orig_scale = np.expm1(y_pred_test)\n",
        "submission_df = pd.DataFrame({'Id': original_ids.astype(int), 'SalePrice': y_pred_test_orig_scale})\n",
        "submission_df.to_csv('submission.csv', index=False)\n",
        "display(submission_df.head())"
      ],
      "cell_type": "code",
      "metadata": {
        "colab": {
          "base_uri": "https://localhost:8080/",
          "height": 391
        },
        "id": "gyxRYQLlyOMM",
        "outputId": "f7261c8c-60a9-4396-f024-ac6ed8e0171b"
      },
      "execution_count": 16,
      "outputs": [
        {
          "output_type": "error",
          "ename": "ValueError",
          "evalue": "The feature names should match those that were passed during fit.\nFeature names seen at fit time, yet now missing:\n- Id\n",
          "traceback": [
            "\u001b[0;31m---------------------------------------------------------------------------\u001b[0m",
            "\u001b[0;31mValueError\u001b[0m                                Traceback (most recent call last)",
            "\u001b[0;32m<ipython-input-16-9dfcb73e0b11>\u001b[0m in \u001b[0;36m<cell line: 0>\u001b[0;34m()\u001b[0m\n\u001b[1;32m      6\u001b[0m \u001b[0mdf_test\u001b[0m \u001b[0;34m=\u001b[0m \u001b[0mdf_test\u001b[0m\u001b[0;34m[\u001b[0m\u001b[0mX_train\u001b[0m\u001b[0;34m.\u001b[0m\u001b[0mcolumns\u001b[0m\u001b[0;34m]\u001b[0m\u001b[0;34m\u001b[0m\u001b[0;34m\u001b[0m\u001b[0m\n\u001b[1;32m      7\u001b[0m \u001b[0;34m\u001b[0m\u001b[0m\n\u001b[0;32m----> 8\u001b[0;31m \u001b[0my_pred_test\u001b[0m \u001b[0;34m=\u001b[0m \u001b[0mbest_rf_model\u001b[0m\u001b[0;34m.\u001b[0m\u001b[0mpredict\u001b[0m\u001b[0;34m(\u001b[0m\u001b[0mdf_test\u001b[0m\u001b[0;34m.\u001b[0m\u001b[0mfillna\u001b[0m\u001b[0;34m(\u001b[0m\u001b[0;36m0\u001b[0m\u001b[0;34m)\u001b[0m\u001b[0;34m)\u001b[0m\u001b[0;34m\u001b[0m\u001b[0;34m\u001b[0m\u001b[0m\n\u001b[0m\u001b[1;32m      9\u001b[0m \u001b[0my_pred_test_orig_scale\u001b[0m \u001b[0;34m=\u001b[0m \u001b[0mnp\u001b[0m\u001b[0;34m.\u001b[0m\u001b[0mexpm1\u001b[0m\u001b[0;34m(\u001b[0m\u001b[0my_pred_test\u001b[0m\u001b[0;34m)\u001b[0m\u001b[0;34m\u001b[0m\u001b[0;34m\u001b[0m\u001b[0m\n\u001b[1;32m     10\u001b[0m \u001b[0msubmission_df\u001b[0m \u001b[0;34m=\u001b[0m \u001b[0mpd\u001b[0m\u001b[0;34m.\u001b[0m\u001b[0mDataFrame\u001b[0m\u001b[0;34m(\u001b[0m\u001b[0;34m{\u001b[0m\u001b[0;34m'Id'\u001b[0m\u001b[0;34m:\u001b[0m \u001b[0moriginal_ids\u001b[0m\u001b[0;34m.\u001b[0m\u001b[0mastype\u001b[0m\u001b[0;34m(\u001b[0m\u001b[0mint\u001b[0m\u001b[0;34m)\u001b[0m\u001b[0;34m,\u001b[0m \u001b[0;34m'SalePrice'\u001b[0m\u001b[0;34m:\u001b[0m \u001b[0my_pred_test_orig_scale\u001b[0m\u001b[0;34m}\u001b[0m\u001b[0;34m)\u001b[0m\u001b[0;34m\u001b[0m\u001b[0;34m\u001b[0m\u001b[0m\n",
            "\u001b[0;32m/usr/local/lib/python3.11/dist-packages/sklearn/ensemble/_forest.py\u001b[0m in \u001b[0;36mpredict\u001b[0;34m(self, X)\u001b[0m\n\u001b[1;32m   1064\u001b[0m         \u001b[0mcheck_is_fitted\u001b[0m\u001b[0;34m(\u001b[0m\u001b[0mself\u001b[0m\u001b[0;34m)\u001b[0m\u001b[0;34m\u001b[0m\u001b[0;34m\u001b[0m\u001b[0m\n\u001b[1;32m   1065\u001b[0m         \u001b[0;31m# Check data\u001b[0m\u001b[0;34m\u001b[0m\u001b[0;34m\u001b[0m\u001b[0m\n\u001b[0;32m-> 1066\u001b[0;31m         \u001b[0mX\u001b[0m \u001b[0;34m=\u001b[0m \u001b[0mself\u001b[0m\u001b[0;34m.\u001b[0m\u001b[0m_validate_X_predict\u001b[0m\u001b[0;34m(\u001b[0m\u001b[0mX\u001b[0m\u001b[0;34m)\u001b[0m\u001b[0;34m\u001b[0m\u001b[0;34m\u001b[0m\u001b[0m\n\u001b[0m\u001b[1;32m   1067\u001b[0m \u001b[0;34m\u001b[0m\u001b[0m\n\u001b[1;32m   1068\u001b[0m         \u001b[0;31m# Assign chunk of trees to jobs\u001b[0m\u001b[0;34m\u001b[0m\u001b[0;34m\u001b[0m\u001b[0m\n",
            "\u001b[0;32m/usr/local/lib/python3.11/dist-packages/sklearn/ensemble/_forest.py\u001b[0m in \u001b[0;36m_validate_X_predict\u001b[0;34m(self, X)\u001b[0m\n\u001b[1;32m    636\u001b[0m             \u001b[0mensure_all_finite\u001b[0m \u001b[0;34m=\u001b[0m \u001b[0;32mTrue\u001b[0m\u001b[0;34m\u001b[0m\u001b[0;34m\u001b[0m\u001b[0m\n\u001b[1;32m    637\u001b[0m \u001b[0;34m\u001b[0m\u001b[0m\n\u001b[0;32m--> 638\u001b[0;31m         X = validate_data(\n\u001b[0m\u001b[1;32m    639\u001b[0m             \u001b[0mself\u001b[0m\u001b[0;34m,\u001b[0m\u001b[0;34m\u001b[0m\u001b[0;34m\u001b[0m\u001b[0m\n\u001b[1;32m    640\u001b[0m             \u001b[0mX\u001b[0m\u001b[0;34m,\u001b[0m\u001b[0;34m\u001b[0m\u001b[0;34m\u001b[0m\u001b[0m\n",
            "\u001b[0;32m/usr/local/lib/python3.11/dist-packages/sklearn/utils/validation.py\u001b[0m in \u001b[0;36mvalidate_data\u001b[0;34m(_estimator, X, y, reset, validate_separately, skip_check_array, **check_params)\u001b[0m\n\u001b[1;32m   2917\u001b[0m         \u001b[0mvalidated\u001b[0m\u001b[0;34m.\u001b[0m\u001b[0;34m\u001b[0m\u001b[0;34m\u001b[0m\u001b[0m\n\u001b[1;32m   2918\u001b[0m     \"\"\"\n\u001b[0;32m-> 2919\u001b[0;31m     \u001b[0m_check_feature_names\u001b[0m\u001b[0;34m(\u001b[0m\u001b[0m_estimator\u001b[0m\u001b[0;34m,\u001b[0m \u001b[0mX\u001b[0m\u001b[0;34m,\u001b[0m \u001b[0mreset\u001b[0m\u001b[0;34m=\u001b[0m\u001b[0mreset\u001b[0m\u001b[0;34m)\u001b[0m\u001b[0;34m\u001b[0m\u001b[0;34m\u001b[0m\u001b[0m\n\u001b[0m\u001b[1;32m   2920\u001b[0m     \u001b[0mtags\u001b[0m \u001b[0;34m=\u001b[0m \u001b[0mget_tags\u001b[0m\u001b[0;34m(\u001b[0m\u001b[0m_estimator\u001b[0m\u001b[0;34m)\u001b[0m\u001b[0;34m\u001b[0m\u001b[0;34m\u001b[0m\u001b[0m\n\u001b[1;32m   2921\u001b[0m     \u001b[0;32mif\u001b[0m \u001b[0my\u001b[0m \u001b[0;32mis\u001b[0m \u001b[0;32mNone\u001b[0m \u001b[0;32mand\u001b[0m \u001b[0mtags\u001b[0m\u001b[0;34m.\u001b[0m\u001b[0mtarget_tags\u001b[0m\u001b[0;34m.\u001b[0m\u001b[0mrequired\u001b[0m\u001b[0;34m:\u001b[0m\u001b[0;34m\u001b[0m\u001b[0;34m\u001b[0m\u001b[0m\n",
            "\u001b[0;32m/usr/local/lib/python3.11/dist-packages/sklearn/utils/validation.py\u001b[0m in \u001b[0;36m_check_feature_names\u001b[0;34m(estimator, X, reset)\u001b[0m\n\u001b[1;32m   2775\u001b[0m             \u001b[0mmessage\u001b[0m \u001b[0;34m+=\u001b[0m \u001b[0;34m\"Feature names must be in the same order as they were in fit.\\n\"\u001b[0m\u001b[0;34m\u001b[0m\u001b[0;34m\u001b[0m\u001b[0m\n\u001b[1;32m   2776\u001b[0m \u001b[0;34m\u001b[0m\u001b[0m\n\u001b[0;32m-> 2777\u001b[0;31m         \u001b[0;32mraise\u001b[0m \u001b[0mValueError\u001b[0m\u001b[0;34m(\u001b[0m\u001b[0mmessage\u001b[0m\u001b[0;34m)\u001b[0m\u001b[0;34m\u001b[0m\u001b[0;34m\u001b[0m\u001b[0m\n\u001b[0m\u001b[1;32m   2778\u001b[0m \u001b[0;34m\u001b[0m\u001b[0m\n\u001b[1;32m   2779\u001b[0m \u001b[0;34m\u001b[0m\u001b[0m\n",
            "\u001b[0;31mValueError\u001b[0m: The feature names should match those that were passed during fit.\nFeature names seen at fit time, yet now missing:\n- Id\n"
          ]
        }
      ]
    },
    {
      "source": [
        "## Summary:\n",
        "\n",
        "### Q&A\n",
        "No questions were posed in the data analysis task.\n",
        "\n",
        "### Data Analysis Key Findings\n",
        "* Several features had missing values, notably 'PoolQC', 'MiscFeature', 'Alley', and 'Fence', addressed through imputation.\n",
        "* The 'SalePrice' distribution was right-skewed, prompting a log transformation for normalization.  Outliers in 'SalePrice' were capped using the IQR method.\n",
        "* Several numerical features showed correlation with 'SalePrice', including 'OverallQual', 'GrLivArea', 'GarageCars', and 'TotalBsmtSF'.\n",
        "* Feature engineering included log transformations of skewed numerical features, one-hot encoding of categorical features, and creation of a combined feature 'TotalSF'. Numerical features were scaled using `StandardScaler`.\n",
        "* A `RandomForestRegressor` model was trained and optimized using `GridSearchCV`. The final RMSE on the validation set was approximately 0.3634 (on the non-log transformed SalePrice).\n",
        "* A persistent `RuntimeWarning: invalid value encountered in log1p` was observed during log transformations, suggesting numerical instability due to zero or negative values.\n",
        "* A `ValueError` related to inconsistent feature names between training and test sets hampered the final prediction and submission generation process.\n",
        "\n",
        "### Insights or Next Steps\n",
        "* Investigate the root cause of the `RuntimeWarning` during log transformation and explore alternative handling of zero or negative values in features.\n",
        "* Carefully examine the feature discrepancies between the training and test sets to ensure complete alignment before making predictions.  Resolve the issue with the 'Id' column.\n",
        "* Evaluate the model on the log of SalePrice as originally specified, rather than the raw SalePrice values.\n"
      ],
      "cell_type": "markdown",
      "metadata": {
        "id": "G3US83l7yTSj"
      }
    }
  ]
}