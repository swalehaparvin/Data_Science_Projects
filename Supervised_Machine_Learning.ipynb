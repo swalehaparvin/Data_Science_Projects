{
  "nbformat": 4,
  "nbformat_minor": 0,
  "metadata": {
    "colab": {
      "provenance": [],
      "authorship_tag": "ABX9TyNBds2bXTfMZ/3ilCQ6MBKw",
      "include_colab_link": true
    },
    "kernelspec": {
      "name": "python3",
      "display_name": "Python 3"
    },
    "language_info": {
      "name": "python"
    }
  },
  "cells": [
    {
      "cell_type": "markdown",
      "metadata": {
        "id": "view-in-github",
        "colab_type": "text"
      },
      "source": [
        "<a href=\"https://colab.research.google.com/github/swalehaparvin/kaggle_projects/blob/main/Supervised_Machine_Learning.ipynb\" target=\"_parent\"><img src=\"https://colab.research.google.com/assets/colab-badge.svg\" alt=\"Open In Colab\"/></a>"
      ]
    },
    {
      "cell_type": "markdown",
      "source": [
        "## Predicting housing prices\n",
        "This code demonstrates a basic example of applying a linear regression model for predicting housing prices based on the size of the house.\n",
        "This function computes predictions (f_wb) using the linear regression equation:\n",
        "\n",
        "𝑓\n",
        "(\n",
        "𝑥\n",
        ")\n",
        "=\n",
        "𝑤\n",
        "⋅\n",
        "𝑥\n",
        "+\n",
        "𝑏\n",
        "f(x)=w⋅x+b\n",
        "\n",
        "Loop Implementation:\n",
        "\n",
        "Iterates through the input array x.\n",
        "\n",
        "For each house size x[i], computes the price using f_wb[i] = w * x[i] + b\n",
        "\n",
        "Output Example\n",
        "For x_train = [1.0, 2.0], w = 200, b = 100, the predictions would be:\n",
        "\n",
        "𝑓\n",
        "(\n",
        "1.0\n",
        ")\n",
        "=\n",
        "200\n",
        "⋅\n",
        "1.0\n",
        "+\n",
        "100\n",
        "=\n",
        "300\n",
        "f(1.0)=200⋅1.0+100=300\n",
        "\n",
        "𝑓\n",
        "(\n",
        "2.0\n",
        ")\n",
        "=\n",
        "200\n",
        "⋅\n",
        "2.0\n",
        "+\n",
        "100\n",
        "=\n",
        "500\n",
        "f(2.0)=200⋅2.0+100=500"
      ],
      "metadata": {
        "id": "P0dkd051Mr04"
      }
    },
    {
      "cell_type": "code",
      "execution_count": null,
      "metadata": {
        "colab": {
          "base_uri": "https://localhost:8080/",
          "height": 611
        },
        "id": "eFspmeqYWbtu",
        "outputId": "90e7894c-6523-4dec-8714-b55789e37879"
      },
      "outputs": [
        {
          "output_type": "stream",
          "name": "stdout",
          "text": [
            "x_train = [1. 2.]\n",
            "y_train = [300. 500.]\n",
            "x_train.shape: (2,)\n",
            "Number of training examples is: 2\n",
            "Number of training examples is: 2\n",
            "(x^(1), y^(1)) = (2.0, 500.0)\n",
            "w: 200\n",
            "b: 100\n"
          ]
        },
        {
          "output_type": "display_data",
          "data": {
            "text/plain": [
              "<Figure size 640x480 with 1 Axes>"
            ],
            "image/png": "[encoded data removed]"
          },
          "metadata": {}
        }
      ],
      "source": [
        "import numpy as np\n",
        "import matplotlib.pyplot as plt\n",
        "x_train = np.array([1.0, 2.0])\n",
        "y_train = np.array([300.0, 500.0])\n",
        "print(f\"x_train = {x_train}\")\n",
        "print(f\"y_train = {y_train}\")\n",
        "\n",
        "# m is the number of training examples\n",
        "print(f\"x_train.shape: {x_train.shape}\")\n",
        "m = x_train.shape[0]\n",
        "print(f\"Number of training examples is: {m}\")\n",
        "# m is the number of training examples\n",
        "m = len(x_train)\n",
        "print(f\"Number of training examples is: {m}\")\n",
        "i = 1 # Change this to 1 to see (x^1, y^1)\n",
        "\n",
        "x_i = x_train[i]\n",
        "y_i = y_train[i]\n",
        "print(f\"(x^({i}), y^({i})) = ({x_i}, {y_i})\")\n",
        "\n",
        "\n",
        "plt.scatter(x_train, y_train, marker='x', c='r')\n",
        "\n",
        "plt.title(\"Housing Prices\")\n",
        "\n",
        "plt.ylabel('Price (in 1000s of dollars)')\n",
        "\n",
        "plt.xlabel('Size (1000 sqft)')\n",
        "\n",
        "\n",
        "w = 200\n",
        "b = 100\n",
        "print(f\"w: {w}\")\n",
        "print(f\"b: {b}\")\n",
        "\n",
        "def compute_model_output(x, w, b):\n",
        "    m = x.shape[0]\n",
        "    f_wb = np.zeros(m)\n",
        "    for i in range(m):\n",
        "        f_wb[i] = w * x[i] + b\n",
        "\n",
        "    return f_wb"
      ]
    },
    {
      "cell_type": "markdown",
      "source": [
        "This additional code builds on the earlier example to visualize the predictions and estimate the price of a house of size 1.2 (1200 sqft). Here's an explanation:\n",
        "\n",
        "### 1. **Compute Model Predictions**\n",
        "\n",
        "```python\n",
        "tmp_f_wb = compute_model_output(x_train, w, b)\n",
        "```\n",
        "\n",
        "* Uses the `compute_model_output` function to compute predictions (`f_wb`) for the given training data `x_train` using the specified weight (`w`) and bias (`b`).\n",
        "\n",
        "### 2. **Plotting Predictions**\n",
        "\n",
        "```python\n",
        "plt.plot(x_train, tmp_f_wb, c='b',label='Our Prediction')\n",
        "```\n",
        "\n",
        "* Plots the predictions as a blue line (`c='b'`), showing the linear relationship between house size and predicted price.\n",
        "\n",
        "### 3. **Plotting Actual Data**\n",
        "\n",
        "```python\n",
        "plt.scatter(x_train, y_train, marker='x', c='r',label='Actual Values')\n",
        "```\n",
        "\n",
        "* Adds the actual data points (`x_train`, `y_train`) as red crosses (`c='r'`) to the plot for comparison with the model predictions.\n",
        "\n",
        "### 4. **Customizing the Plot**\n",
        "\n",
        "```python\n",
        "plt.title(\"Housing Prices\")\n",
        "plt.ylabel('Price (in 1000s of dollars)')\n",
        "plt.xlabel('Size (1000 sqft)')\n",
        "plt.legend()\n",
        "plt.show()\n",
        "```\n",
        "\n",
        "* Sets the plot's title, axis labels, and adds a legend to differentiate between actual data and predictions.\n",
        "\n",
        "### 5. **Estimating Cost for a 1200 sqft House**\n",
        "\n",
        "```python\n",
        "x_i = 1.2  # Size of the house in 1000 sqft\n",
        "cost_1200sqft = w * x_i + b\n",
        "print(f\"${cost_1200sqft:.0f} thousand dollars\")\n",
        "```\n",
        "\n",
        "* Calculates the price of a house sized 1.2 (1200 sqft) using the linear equation:\n",
        "\n",
        "  $$\n",
        "  f(x) = w \\cdot x + b\n",
        "  $$\n",
        "\n",
        "  Substituting $w = 200$, $b = 100$, $x_i = 1.2$:\n",
        "\n",
        "  $$\n",
        "  f(1.2) = 200 \\cdot 1.2 + 100 = 340\n",
        "  $$\n",
        "* The result is formatted as \"340 thousand dollars.\"\n",
        "\n",
        "### Output\n",
        "\n",
        "* A plot showing the relationship between house size and price:\n",
        "\n",
        "  * Red crosses for actual values.\n",
        "  * Blue line for the model predictions.\n",
        "* The printed output:\n",
        "\n",
        "  ```\n",
        "  $340 thousand dollars\n",
        "  ```\n",
        "\n",
        "  This indicates the predicted cost of a 1200 sqft house based on the model.\n"
      ],
      "metadata": {
        "id": "iIO8Uaf4Nwd2"
      }
    },
    {
      "cell_type": "code",
      "source": [
        "tmp_f_wb = compute_model_output(x_train, w, b,)\n",
        "\n",
        "# Plot our model prediction\n",
        "plt.plot(x_train, tmp_f_wb, c='b',label='Our Prediction')\n",
        "\n",
        "# Plot the data points\n",
        "plt.scatter(x_train, y_train, marker='x', c='r',label='Actual Values')\n",
        "\n",
        "# Set the title\n",
        "plt.title(\"Housing Prices\")\n",
        "# Set the y-axis label\n",
        "plt.ylabel('Price (in 1000s of dollars)')\n",
        "# Set the x-axis label\n",
        "plt.xlabel('Size (1000 sqft)')\n",
        "plt.legend()\n",
        "plt.show()\n",
        "w = 200\n",
        "b = 100\n",
        "x_i = 1.2\n",
        "cost_1200sqft = w * x_i + b\n",
        "\n",
        "print(f\"${cost_1200sqft:.0f} thousand dollars\")"
      ],
      "metadata": {
        "colab": {
          "base_uri": "https://localhost:8080/",
          "height": 489
        },
        "id": "3NFxVy6tYRg5",
        "outputId": "2da6473c-a57a-4aed-eacf-483be50986b2"
      },
      "execution_count": null,
      "outputs": [
        {
          "output_type": "display_data",
          "data": {
            "text/plain": [
              "<Figure size 640x480 with 1 Axes>"
            ],
            "image/png": "[encoded data removed]"
          },
          "metadata": {}
        },
        {
          "output_type": "stream",
          "name": "stdout",
          "text": [
            "$340 thousand dollars\n"
          ]
        }
      ]
    },
    {
      "cell_type": "code",
      "source": [
        "from google.colab import drive\n",
        "drive.mount('/content/drive')"
      ],
      "metadata": {
        "id": "ndbuo2Q3dUnE"
      },
      "execution_count": null,
      "outputs": []
    },
    {
      "cell_type": "markdown",
      "source": [
        "# Stratify\n",
        "\n",
        "In train_test_split, the stratify parameter ensures that the training and testing sets have the same proportion of classes (or labels) as the original dataset. This is particularly useful when dealing with imbalanced datasets, where some classes are underrepresented."
      ],
      "metadata": {
        "id": "-WQLUN8Adgmc"
      }
    },
    {
      "cell_type": "code",
      "source": [
        "X_train, X_test, y_train, y_test = train_test_split(X, y, test_size=0.3, stratify=y, random_state=42)"
      ],
      "metadata": {
        "id": "EJY9N0FxKuoH"
      },
      "execution_count": null,
      "outputs": []
    },
    {
      "cell_type": "markdown",
      "source": [
        "## Implementation of KNN Algorithm"
      ],
      "metadata": {
        "id": "n86G4UKxY6Ys"
      }
    },
    {
      "cell_type": "code",
      "source": [
        "import numpy as np\n",
        "from collections import Counter\n",
        "def euclidean_distance(point1, point2):\n",
        "    return np.sqrt(np.sum((np.array(point1) - np.array(point2))**2))\n",
        "def knn_predict(training_data, training_labels, test_point, k):\n",
        "    distances = []\n",
        "    for i in range(len(training_data)):\n",
        "        dist = euclidean_distance(test_point, training_data[i])\n",
        "        distances.append((dist, training_labels[i]))\n",
        "    distances.sort(key=lambda x: x[0])\n",
        "    k_nearest_labels = [label for _, label in distances[:k]]\n",
        "    return Counter(k_nearest_labels).most_common(1)[0][0]\n",
        "training_data = [[1, 2], [2, 3], [3, 4], [6, 7], [7, 8]]\n",
        "training_labels = ['A', 'A', 'A', 'B', 'B']\n",
        "test_point = [4, 5]\n",
        "k = 3\n",
        "prediction = knn_predict(training_data, training_labels, test_point, k)\n",
        "print(prediction)"
      ],
      "metadata": {
        "colab": {
          "base_uri": "https://localhost:8080/"
        },
        "id": "IcKY3_7SY7zs",
        "outputId": "edb30351-e8c6-4276-897c-960431974be1"
      },
      "execution_count": 1,
      "outputs": [
        {
          "output_type": "stream",
          "name": "stdout",
          "text": [
            "A\n"
          ]
        }
      ]
    },
    {
      "cell_type": "markdown",
      "source": [
        "This code implements a simple **k-Nearest Neighbors (kNN)** algorithm. Let’s break it down step by step:\n",
        "\n",
        "### **Step-by-Step Explanation**\n",
        "\n",
        "1. **Euclidean Distance**:\n",
        "\n",
        "   * The function `euclidean_distance(point1, point2)` calculates the straight-line distance between two points in space.\n",
        "   * Example: For `point1 = [1, 2]` and `point2 = [4, 5]`, the Euclidean distance is:\n",
        "\n",
        "     $$\n",
        "     \\sqrt{(4-1)^2 + (5-2)^2} = \\sqrt{3^2 + 3^2} = \\sqrt{18} \\approx 4.24\n",
        "     $$\n",
        "\n",
        "2. **kNN Prediction**:\n",
        "\n",
        "   * **Input**:\n",
        "\n",
        "     * `training_data`: List of known points (`[[1, 2], [2, 3], ...]`).\n",
        "     * `training_labels`: Corresponding labels (`['A', 'A', 'A', 'B', 'B']`).\n",
        "     * `test_point`: The new point for which we want to predict the label (`[4, 5]`).\n",
        "     * `k`: Number of nearest neighbors to consider (`3`).\n",
        "   * **Output**:\n",
        "\n",
        "     * The most common label among the `k` nearest neighbors.\n",
        "\n",
        "### **Loop Execution**\n",
        "\n",
        "#### 1. Compute Distances\n",
        "\n",
        "```python\n",
        "for i in range(len(training_data)):\n",
        "    dist = euclidean_distance(test_point, training_data[i])\n",
        "    distances.append((dist, training_labels[i]))\n",
        "```\n",
        "\n",
        "* This loop calculates the distance from `test_point` to each point in `training_data` and stores it along with the corresponding label in the `distances` list.\n",
        "\n",
        "**Step-by-Step Execution:**\n",
        "\n",
        "* `test_point = [4, 5]`\n",
        "* `training_data = [[1, 2], [2, 3], [3, 4], [6, 7], [7, 8]]`\n",
        "* Iterations:\n",
        "\n",
        "  1. Distance to `[1, 2]`: $\\sqrt{(4-1)^2 + (5-2)^2} \\approx 4.24$, label = `'A'`.\n",
        "  2. Distance to `[2, 3]`: $\\sqrt{(4-2)^2 + (5-3)^2} \\approx 2.83$, label = `'A'`.\n",
        "  3. Distance to `[3, 4]`: $\\sqrt{(4-3)^2 + (5-4)^2} \\approx 1.41$, label = `'A'`.\n",
        "  4. Distance to `[6, 7]`: $\\sqrt{(4-6)^2 + (5-7)^2} \\approx 2.83$, label = `'B'`.\n",
        "  5. Distance to `[7, 8]`: $\\sqrt{(4-7)^2 + (5-8)^2} \\approx 4.24$, label = `'B'`.\n",
        "\n",
        "#### 2. Sort by Distance\n",
        "\n",
        "```python\n",
        "distances.sort(key=lambda x: x[0])\n",
        "```\n",
        "\n",
        "* After sorting `distances` by distance:\n",
        "\n",
        "  ```\n",
        "  distances = [(1.41, 'A'), (2.83, 'A'), (2.83, 'B'), (4.24, 'A'), (4.24, 'B')]\n",
        "  ```\n",
        "\n",
        "#### 3. Select `k` Nearest Labels\n",
        "\n",
        "```python\n",
        "k_nearest_labels = [label for _, label in distances[:k]]\n",
        "```\n",
        "\n",
        "* For `k = 3`, the `k` nearest labels are:\n",
        "\n",
        "  ```\n",
        "  k_nearest_labels = ['A', 'A', 'B']\n",
        "  ```\n",
        "\n",
        "#### 4. Determine the Most Common Label\n",
        "\n",
        "```python\n",
        "return Counter(k_nearest_labels).most_common(1)[0][0]\n",
        "```\n",
        "\n",
        "* Counts the occurrences of each label:\n",
        "\n",
        "  ```\n",
        "  'A': 2, 'B': 1\n",
        "  ```\n",
        "* The most common label is `'A'`.\n",
        "\n",
        "### **Output**\n",
        "\n",
        "The predicted label for the test point `[4, 5]` is:\n",
        "\n",
        "```\n",
        "A\n",
        "```\n"
      ],
      "metadata": {
        "id": "NKoiEGpAarTx"
      }
    },
    {
      "cell_type": "markdown",
      "source": [
        "## Cross-validation for R-squared\n",
        "Cross-validation is a vital approach to evaluating a model. It maximizes the amount of data that is available to the model, as the model is not only trained but also tested on all of the available data.\n",
        "\n",
        "In this exercise, you will build a linear regression model, then use 6-fold cross-validation to assess its accuracy for predicting sales using social media advertising expenditure. You will display the individual score for each of the six-folds.\n",
        "\n",
        "The sales_df dataset has been split into y for the target variable, and X for the features, and preloaded for you. LinearRegression has been imported from sklearn.linear_model"
      ],
      "metadata": {
        "id": "IT2mVvlIb9hr"
      }
    },
    {
      "cell_type": "code",
      "source": [
        "from sklearn.model_selection import KFold, cross_val_score\n",
        "\n",
        "# Create a KFold object\n",
        "kf = KFold(n_splits=6, shuffle=True, random_state=5)\n",
        "\n",
        "reg = LinearRegression()\n",
        "\n",
        "# Compute 6-fold cross-validation scores\n",
        "cv_scores = cross_val_score(reg,X, y, cv=kf)\n",
        "\n",
        "# Print scores\n",
        "print(cv_scores)\n",
        "\n",
        "print(np.mean(cv_results))\n",
        "\n",
        "# Print the standard deviation\n",
        "print(np.std(cv_results))\n",
        "\n",
        "# Print the 95% confidence interval\n",
        "print(np.quantile(cv_results, [0.025, 0.975]))"
      ],
      "metadata": {
        "id": "v_N1AFW4l_T5"
      },
      "execution_count": null,
      "outputs": []
    },
    {
      "cell_type": "markdown",
      "source": [
        "Output= [0.74451678 0.77241887 0.76842114 0.7410406  0.75170022 0.74406484]\n",
        "\n",
        "0.7536937416666666\n",
        "0.012305386274436092\n",
        "[0.74141863 0.77191915]"
      ],
      "metadata": {
        "id": "KzSMIYAzmBKr"
      }
    },
    {
      "cell_type": "markdown",
      "source": [
        "## Ridge regression\n",
        "\n",
        "In this code, we will fit ridge regression models over a range of different alpha values, and print their\n",
        " scores. You will use all of the features in the sales_df dataset to predict \"sales\". The data has been split into X_train, X_test, y_train, y_test for you.\n",
        "\n",
        "A variable called alphas has been provided as a list containing different alpha values, which you will loop through to generate scores."
      ],
      "metadata": {
        "id": "SfYkp8NdvlJx"
      }
    },
    {
      "cell_type": "code",
      "source": [
        "import numpy as np\n",
        "import pandas as pd\n",
        "from sklearn.model_selection import train_test_split\n",
        "from sklearn.linear_model import Ridge\n",
        "\n",
        "\n",
        "# Example dataset\n",
        "data = pd.DataFrame({\n",
        "    'feature1': np.random.rand(100),\n",
        "    'feature2': np.random.rand(100),\n",
        "    'target': np.random.rand(100)\n",
        "})\n",
        "\n",
        "# Define X (features) and y (target)\n",
        "X = data[['feature1', 'feature2']].values\n",
        "y = data['target'].values\n",
        "\n",
        "# Split into training and testing sets\n",
        "X_train, X_test, y_train, y_test = train_test_split(X, y, test_size=0.2, random_state=42)\n",
        "\n",
        "# Define alphas\n",
        "alphas = [0.1, 1.0, 10.0, 100.0, 1000.0, 10000.0]\n",
        "ridge_scores = []\n",
        "\n",
        "# Ridge regression with different alphas\n",
        "for alpha in alphas:\n",
        "    # Create a Ridge regression model\n",
        "    ridge = Ridge(alpha=alpha)\n",
        "\n",
        "    # Fit the data\n",
        "    ridge.fit(X_train, y_train)\n",
        "\n",
        "    # Obtain R-squared\n",
        "    score = ridge.score(X_test, y_test)\n",
        "    ridge_scores.append(score)\n",
        "\n",
        "# Print results\n",
        "print(ridge_scores)\n"
      ],
      "metadata": {
        "colab": {
          "base_uri": "https://localhost:8080/"
        },
        "id": "sIVKgVdewM0l",
        "outputId": "a76b7595-5589-4a00-f120-4183b491bd91"
      },
      "execution_count": 11,
      "outputs": [
        {
          "output_type": "stream",
          "name": "stdout",
          "text": [
            "[0.10237621771800054, 0.09441320278353749, 0.04998249669892052, 0.0040147112322442835, -0.004910792774018624, -0.00588588946205415]\n"
          ]
        }
      ]
    },
    {
      "cell_type": "markdown",
      "source": [
        "### Explanation of the `for` Loop:\n",
        "\n",
        "1. **Purpose:** The loop iterates through each value of `alpha` (regularization parameter) in the `alphas` list and evaluates the Ridge regression model's performance for each value.\n",
        "2. **Steps Inside the Loop:**\n",
        "\n",
        "   * **Model Creation:**\n",
        "     `ridge = Ridge(alpha=alpha)` creates a Ridge regression model with the current value of `alpha`.\n",
        "   * **Fit the Model:**\n",
        "     `ridge.fit(X_train, y_train)` trains the model using the training data (`X_train`, `y_train`).\n",
        "   * **Compute R-squared:**\n",
        "     `score = ridge.score(X_test, y_test)` computes the R-squared value on the test data. This indicates how well the model predicts unseen data.\n",
        "   * **Store Results:**\n",
        "     `ridge_scores.append((alpha, score))` saves the current `alpha` and its corresponding R-squared score.\n",
        "\n",
        "---\n",
        "\n",
        "### Results of the Loop:\n",
        "\n",
        "| **Alpha** | **R-squared Score** |\n",
        "| --------- | ------------------- |\n",
        "| 0.1       | -0.1785             |\n",
        "| 1.0       | -0.1476             |\n",
        "| 10.0      | -0.0519             |\n",
        "| 100.0     | -0.0124             |\n",
        "| 1000.0    | -0.0082             |\n",
        "| 10000.0   | -0.0078             |\n",
        "\n",
        "---\n",
        "\n",
        "### Observations:\n",
        "\n",
        "* Higher `alpha` values reduce overfitting but also make the model simpler, as reflected in improving scores (less negative values).\n",
        "* All R-squared values are negative, indicating that the model is underperforming compared to a baseline mean predictor. This might be due to the randomly generated dataset.\n",
        "\n",
        "Interpretation of\n",
        "𝑅\n",
        "2\n",
        "R\n",
        "2\n",
        " :\n",
        "𝑅\n",
        "2\n",
        "=\n",
        "1\n",
        "R\n",
        "2\n",
        " =1: Perfect model fit.\n",
        "\n",
        "𝑅\n",
        "2\n",
        "=\n",
        "0\n",
        "R\n",
        "2\n",
        " =0: Model performs no better than predicting the mean (\n",
        "𝑦\n",
        "ˉ\n",
        "y\n",
        "ˉ\n",
        "​\n",
        " ).\n",
        "\n",
        "𝑅\n",
        "2\n",
        "<\n",
        "0\n",
        "R\n",
        "2\n",
        " <0: Model performs worse than the mean predictor (underfitting).\n",
        "\n",
        "How It Works in ridge.score:\n",
        "ridge.predict(X_test) computes predicted values (\n",
        "𝑦\n",
        "^\n",
        "y\n",
        "^\n",
        "​\n",
        " ).\n",
        "\n",
        "The ridge.score method automatically calculates\n",
        "SS\n",
        "res\n",
        "SS\n",
        "res\n",
        "​\n",
        "  and\n",
        "SS\n",
        "tot\n",
        "SS\n",
        "tot\n",
        "​\n",
        "  and applies the\n",
        "𝑅\n",
        "2\n",
        "R\n",
        "2\n",
        "  formula.\n",
        "\n",
        "It returns the\n",
        "𝑅\n",
        "2\n",
        "R\n",
        "2\n",
        "  value as the output.\n"
      ],
      "metadata": {
        "id": "L58YPUE-xmtS"
      }
    },
    {
      "cell_type": "markdown",
      "source": [
        "## Lasso Regression\n",
        "\n",
        "Think of Lasso as a \"smart\" way to predict something (like house prices) using multiple features (like size, location, age). It's \"smart\" because it automatically figures out which features are actually important and ignores the useless ones by setting their coefficients to zero.\n",
        "\n",
        "Bottom line: Lasso helps you focus on what actually matters by ignoring the stuff that doesn't help!\n",
        "\n",
        "- Coefficient = How much each thing affects your score\n",
        "- Feature = Each thing you're measuring (house price, size, etc.)\n",
        "-Regularization = The fancy word for \"throwing away unimportant stuff\""
      ],
      "metadata": {
        "id": "FH3mgirq3mAJ"
      }
    },
    {
      "cell_type": "code",
      "source": [
        "# Import libraries\n",
        "from sklearn.linear_model import Lasso\n",
        "from sklearn.preprocessing import StandardScaler\n",
        "from  sklearn.linear_model import LassoCV\n",
        "import matplotlib.pyplot as plt\n",
        "import pandas as pd\n",
        "import numpy as np\n",
        "\n",
        "# Prepare the data\n",
        "X = data[['feature1', 'feature2']]\n",
        "y = data['target']\n",
        "\n",
        "# Scale the features (crucial for Lasso)\n",
        "scaler = StandardScaler()\n",
        "X_scaled = scaler.fit_transform(X)\n",
        "\n",
        "# Option 1: Use cross-validation to find optimal alpha\n",
        "lasso_cv = LassoCV(cv=5, random_state=42)\n",
        "lasso_cv.fit(X_scaled, y)\n",
        "optimal_alpha = lasso_cv.alpha_\n",
        "print(f\"Optimal alpha found by CV: {optimal_alpha:.4f}\")\n",
        "\n",
        "# Fit Lasso with optimal alpha\n",
        "lasso = Lasso(alpha=optimal_alpha, random_state=42)\n",
        "lasso.fit(X_scaled, y)\n",
        "\n",
        "# Alternative: Use a smaller fixed alpha if you prefer\n",
        "# lasso = Lasso(alpha=0.01, random_state=42)\n",
        "# lasso.fit(X_scaled, y)\n",
        "\n",
        "# Get coefficients\n",
        "lasso_coef = lasso.coef_\n",
        "feature_names = X.columns\n",
        "\n",
        "# Print coefficient details\n",
        "print(\"\\nLasso Regression Coefficients:\")\n",
        "print(\"-\" * 40)\n",
        "for feature, coef in zip(feature_names, lasso_coef):\n",
        "    print(f\"{feature:15s}: {coef:8.4f}\")\n",
        "print(f\"\\nIntercept: {lasso.intercept_:.4f}\")\n",
        "\n",
        "# Check if coefficients are non-zero\n",
        "non_zero_coefs = np.sum(lasso_coef != 0)\n",
        "print(f\"\\nNumber of non-zero coefficients: {non_zero_coefs}/{len(lasso_coef)}\")\n",
        "\n",
        "# Create an improved bar plot\n",
        "plt.figure(figsize=(12, 8))\n",
        "\n",
        "# Create bars with different colors for positive/negative coefficients\n",
        "colors = ['red' if coef < 0 else 'blue' for coef in lasso_coef]\n",
        "bars = plt.bar(feature_names, lasso_coef, color=colors, alpha=0.7, edgecolor='black')\n",
        "\n",
        "# Customize the plot\n",
        "plt.xlabel('Features', fontsize=12)\n",
        "plt.ylabel('Coefficient Value', fontsize=12)\n",
        "plt.title('Lasso Regression Coefficients\\n(Features Standardized)', fontsize=14, fontweight='bold')\n",
        "plt.xticks(rotation=45, ha='right')\n",
        "plt.grid(axis='y', alpha=0.3)\n",
        "\n",
        "# Add value labels on each bar\n",
        "for bar, coef in zip(bars, lasso_coef):\n",
        "    height = bar.get_height()\n",
        "    # Position label above or below bar depending on sign\n",
        "    label_y = height + 0.01 * max(abs(lasso_coef)) if height >= 0 else height - 0.02 * max(abs(lasso_coef))\n",
        "    va = 'bottom' if height >= 0 else 'top'\n",
        "\n",
        "    plt.text(bar.get_x() + bar.get_width()/2, label_y,\n",
        "             f'{coef:.4f}', ha='center', va=va, fontweight='bold', fontsize=10)\n",
        "\n",
        "# Add a horizontal line at y=0\n",
        "plt.axhline(y=0, color='black', linestyle='-', linewidth=0.8)\n",
        "\n",
        "# Add legend\n",
        "from matplotlib.patches import Patch\n",
        "legend_elements = [Patch(facecolor='blue', alpha=0.7, label='Positive'),\n",
        "                   Patch(facecolor='red', alpha=0.7, label='Negative')]\n",
        "plt.legend(handles=legend_elements, loc='upper right')\n",
        "\n",
        "# Adjust layout and show\n",
        "plt.tight_layout()\n",
        "plt.show()\n",
        "\n",
        "# Additional diagnostic information\n",
        "print(f\"\\nModel Performance:\")\n",
        "print(f\"R² Score: {lasso.score(X_scaled, y):.4f}\")\n",
        "\n",
        "# Show feature importance (absolute coefficient values)\n",
        "feature_importance = pd.DataFrame({\n",
        "    'Feature': feature_names,\n",
        "    'Coefficient': lasso_coef,\n",
        "    'Abs_Coefficient': np.abs(lasso_coef)\n",
        "}).sort_values('Abs_Coefficient', ascending=False)\n",
        "\n",
        "print(f\"\\nFeature Importance (by absolute coefficient value):\")\n",
        "print(feature_importance.to_string(index=False))"
      ],
      "metadata": {
        "colab": {
          "base_uri": "https://localhost:8080/",
          "height": 1000
        },
        "id": "8ugOqkv82om4",
        "outputId": "6d770f2f-fbb7-44ce-8e87-d7a83efbf37c"
      },
      "execution_count": 18,
      "outputs": [
        {
          "output_type": "stream",
          "name": "stdout",
          "text": [
            "Optimal alpha found by CV: 0.0180\n",
            "\n",
            "Lasso Regression Coefficients:\n",
            "----------------------------------------\n",
            "feature1       :   0.0000\n",
            "feature2       :   0.0000\n",
            "\n",
            "Intercept: 0.5011\n",
            "\n",
            "Number of non-zero coefficients: 1/2\n"
          ]
        },
        {
          "output_type": "display_data",
          "data": {
            "text/plain": [
              "<Figure size 1200x800 with 1 Axes>"
            ],
            "image/png": "[encoded data removed]"
          },
          "metadata": {}
        },
        {
          "output_type": "stream",
          "name": "stdout",
          "text": [
            "\n",
            "Model Performance:\n",
            "R² Score: 0.0000\n",
            "\n",
            "Feature Importance (by absolute coefficient value):\n",
            " Feature  Coefficient  Abs_Coefficient\n",
            "feature1 6.661338e-18     6.661338e-18\n",
            "feature2 0.000000e+00     0.000000e+00\n"
          ]
        }
      ]
    },
    {
      "cell_type": "markdown",
      "source": [
        "# Assessing a diabetes prediction classifier\n",
        "\n",
        "Now work with the diabetes_df dataset.\n",
        "\n",
        "The goal is to predict whether or not each individual is likely to have diabetes based on the features body mass index (BMI) and age (in years).\n",
        "\n",
        "Therefore, it is a binary classification problem. A target value of 0 indicates that the individual does not have diabetes, while a value of 1 indicates that the individual does have diabetes.\n",
        "\n",
        "We will fit the model, make predictions on the test set, then produce a confusion matrix and classification report."
      ],
      "metadata": {
        "id": "Pf_whX9c0kfo"
      }
    },
    {
      "cell_type": "code",
      "source": [
        "import kagglehub\n",
        "import pandas as pd\n",
        "from sklearn.model_selection import train_test_split\n",
        "from sklearn.metrics import confusion_matrix, classification_report\n",
        "from sklearn.neighbors import KNeighborsClassifier\n",
        "\n",
        "path = kagglehub.dataset_download(\"mathchi/diabetes-data-set\")\n",
        "\n",
        "csv_file_path = f\"{path}/diabetes.csv\"\n",
        "print(\"Dataset columns:\")\n",
        "print(diabetes_df.head())\n",
        "\n",
        "# Load the diabetes dataset\n",
        "try:\n",
        "    diabetes_df = pd.read_csv(csv_file_path)\n",
        "\n",
        "    # Define features (X) and target (y) for the diabetes dataset\n",
        "    # Assuming 'Outcome' is the target column (0 for no diabetes, 1 for diabetes)\n",
        "\n",
        "    X = diabetes_df.drop('Outcome', axis=1)\n",
        "    y = diabetes_df['Outcome']\n",
        "\n",
        "\n",
        "    X_train, X_test, y_train, y_test = train_test_split(X, y, test_size=0.2, random_state=42, stratify=y)\n",
        "\n",
        "    knn = KNeighborsClassifier(n_neighbors=6)\n",
        "\n",
        "\n",
        "    knn.fit(X_train, y_train)\n",
        "\n",
        "\n",
        "    y_pred = knn.predict(X_test)\n",
        "\n",
        "    # Generate and print the confusion matrix and classification report\n",
        "    print(\"Confusion Matrix:\")\n",
        "    print(confusion_matrix(y_test, y_pred))\n",
        "    print(\"\\nClassification Report:\")\n",
        "    print(classification_report(y_test, y_pred))\n",
        "\n",
        "except FileNotFoundError:\n",
        "    print(f\"Error: The file '{csv_file_path}' was not found.\")\n",
        "    print(\"Please check the downloaded dataset path and filename.\")\n"
      ],
      "metadata": {
        "colab": {
          "base_uri": "https://localhost:8080/"
        },
        "id": "MgCquxvZ1DnX",
        "outputId": "1f4f3001-f871-4d14-9d6d-478aa5fedd69"
      },
      "execution_count": 31,
      "outputs": [
        {
          "output_type": "stream",
          "name": "stdout",
          "text": [
            "Dataset columns:\n",
            "   Pregnancies  Glucose  BloodPressure  SkinThickness  Insulin   BMI  \\\n",
            "0            6      148             72             35        0  33.6   \n",
            "1            1       85             66             29        0  26.6   \n",
            "2            8      183             64              0        0  23.3   \n",
            "3            1       89             66             23       94  28.1   \n",
            "4            0      137             40             35      168  43.1   \n",
            "\n",
            "   DiabetesPedigreeFunction  Age  Outcome  \n",
            "0                     0.627   50        1  \n",
            "1                     0.351   31        0  \n",
            "2                     0.672   32        1  \n",
            "3                     0.167   21        0  \n",
            "4                     2.288   33        1  \n",
            "Confusion Matrix:\n",
            "[[87 13]\n",
            " [31 23]]\n",
            "\n",
            "Classification Report:\n",
            "              precision    recall  f1-score   support\n",
            "\n",
            "           0       0.74      0.87      0.80       100\n",
            "           1       0.64      0.43      0.51        54\n",
            "\n",
            "    accuracy                           0.71       154\n",
            "   macro avg       0.69      0.65      0.65       154\n",
            "weighted avg       0.70      0.71      0.70       154\n",
            "\n",
            "[0.62625491 0.10442099 0.26868851 0.28965821 0.00402096 0.18887828\n",
            " 0.46131612 0.92923192 0.10080565 0.78402276]\n"
          ]
        },
        {
          "output_type": "stream",
          "name": "stderr",
          "text": [
            "/usr/local/lib/python3.11/dist-packages/sklearn/linear_model/_logistic.py:465: ConvergenceWarning: lbfgs failed to converge (status=1):\n",
            "STOP: TOTAL NO. OF ITERATIONS REACHED LIMIT.\n",
            "\n",
            "Increase the number of iterations (max_iter) or scale the data as shown in:\n",
            "    https://scikit-learn.org/stable/modules/preprocessing.html\n",
            "Please also refer to the documentation for alternative solver options:\n",
            "    https://scikit-learn.org/stable/modules/linear_model.html#logistic-regression\n",
            "  n_iter_i = _check_optimize_result(\n"
          ]
        }
      ]
    },
    {
      "cell_type": "markdown",
      "source": [
        "In this exercise, you will build a logistic regression model using all features in the diabetes_df dataset. The model will be used to predict the probability of individuals in the test set having a diabetes diagnosis.\n",
        "\n",
        "The diabetes_df dataset has been split into X_train, X_test, y_train, and y_test, and preloaded for you."
      ],
      "metadata": {
        "id": "7MQIh1OC3Tgl"
      }
    },
    {
      "cell_type": "code",
      "source": [
        "from sklearn.linear_model import LogisticRegression\n",
        "\n",
        "# Instantiate the model\n",
        "logreg = LogisticRegression()\n",
        "\n",
        "# Fit the model\n",
        "logreg.fit(X_train, y_train)\n",
        "\n",
        "# Predict probabilities\n",
        "y_pred_probs = logreg.predict_proba(X_test)[:, 1]\n",
        "\n",
        "print(y_pred_probs[:10])"
      ],
      "metadata": {
        "colab": {
          "base_uri": "https://localhost:8080/"
        },
        "id": "ys_jwXkh3WcM",
        "outputId": "ba7218f4-a0ea-4c15-d9dc-abcdf713799c"
      },
      "execution_count": 30,
      "outputs": [
        {
          "output_type": "stream",
          "name": "stdout",
          "text": [
            "[0.62625491 0.10442099 0.26868851 0.28965821 0.00402096 0.18887828\n",
            " 0.46131612 0.92923192 0.10080565 0.78402276]\n"
          ]
        },
        {
          "output_type": "stream",
          "name": "stderr",
          "text": [
            "/usr/local/lib/python3.11/dist-packages/sklearn/linear_model/_logistic.py:465: ConvergenceWarning: lbfgs failed to converge (status=1):\n",
            "STOP: TOTAL NO. OF ITERATIONS REACHED LIMIT.\n",
            "\n",
            "Increase the number of iterations (max_iter) or scale the data as shown in:\n",
            "    https://scikit-learn.org/stable/modules/preprocessing.html\n",
            "Please also refer to the documentation for alternative solver options:\n",
            "    https://scikit-learn.org/stable/modules/linear_model.html#logistic-regression\n",
            "  n_iter_i = _check_optimize_result(\n"
          ]
        }
      ]
    },
    {
      "cell_type": "markdown",
      "source": [
        "Output:\n",
        "[0.26551031 0.18336542 0.12119596 0.15613565 0.49611285 0.44582236\n",
        " 0.01359235 0.61646125 0.55640546 0.7931187 ]"
      ],
      "metadata": {
        "id": "-3Ws3BlS4oKd"
      }
    },
    {
      "cell_type": "markdown",
      "source": [
        "## The ROC curve\n",
        "Now you have built a logistic regression model for predicting diabetes status, you can plot the ROC curve to visualize how the true positive rate and false positive rate vary as the decision threshold changes.\n",
        "\n",
        "You will create a ROC curve and then interpret the results."
      ],
      "metadata": {
        "id": "RhHN_Y304xkl"
      }
    },
    {
      "cell_type": "code",
      "source": [
        "from sklearn.metrics import roc_curve\n",
        "from sklearn.metrics import roc_auc_score\n",
        "\n",
        "# Generate ROC curve values: fpr, tpr, thresholds\n",
        "fpr, tpr, thresholds = roc_curve(y_test, y_pred_probs)\n",
        "\n",
        "plt.plot([0, 1], [0, 1], 'k--')\n",
        "\n",
        "# Plot tpr against fpr\n",
        "plt.plot(fpr, tpr)\n",
        "plt.xlabel('False Positive Rate')\n",
        "plt.ylabel('True Positive Rate')\n",
        "plt.title('ROC Curve for Diabetes Prediction')\n",
        "plt.show()\n",
        "\n",
        "# Calculate roc_auc_score\n",
        "print(roc_auc_score(y_test, y_pred_probs))\n",
        "\n",
        "\n",
        "print(confusion_matrix(y_test, y_pred))\n",
        "\n",
        "\n",
        "print(classification_report(y_test, y_pred))"
      ],
      "metadata": {
        "colab": {
          "base_uri": "https://localhost:8080/",
          "height": 680
        },
        "id": "1awXM5Rs4yyu",
        "outputId": "f910b265-da04-47ee-b213-da7cb6d651a4"
      },
      "execution_count": 34,
      "outputs": [
        {
          "output_type": "display_data",
          "data": {
            "text/plain": [
              "<Figure size 640x480 with 1 Axes>"
            ],
            "image/png": "[encoded data removed]"
          },
          "metadata": {}
        },
        {
          "output_type": "stream",
          "name": "stdout",
          "text": [
            "0.8238888888888889\n",
            "[[87 13]\n",
            " [31 23]]\n",
            "              precision    recall  f1-score   support\n",
            "\n",
            "           0       0.74      0.87      0.80       100\n",
            "           1       0.64      0.43      0.51        54\n",
            "\n",
            "    accuracy                           0.71       154\n",
            "   macro avg       0.69      0.65      0.65       154\n",
            "weighted avg       0.70      0.71      0.70       154\n",
            "\n"
          ]
        }
      ]
    },
    {
      "cell_type": "markdown",
      "source": [
        "## Hyperparameter tuning with GridSearchCV\n",
        "Now you have seen how to perform grid search hyperparameter tuning, you are going to build a lasso regression model with optimal hyperparameters to predict blood glucose levels using the features in the diabetes_df dataset."
      ],
      "metadata": {
        "id": "sEqwXYbO6S55"
      }
    },
    {
      "cell_type": "code",
      "source": [
        "from sklearn.model_selection import GridSearchCV\n",
        "# Set up the parameter grid.Instead of you manually trying different alpha values one by one, this GridSearchCV does it for you systematically.\n",
        "param_grid = {\"alpha\": np.linspace(20, 0.00001, 70)}\n",
        "\n",
        "#Try each alpha value in your grid. For each alpha, train the model using cross-validation\n",
        "#Keep track of which alpha gives the best performance\n",
        "\n",
        "lasso_cv = GridSearchCV(lasso, param_grid, cv=kf)\n",
        "\n",
        "# Fit to the training data\n",
        "lasso_cv.fit(X_train,y_train)\n",
        "print(\"Tuned lasso paramaters: {}\".format(lasso_cv.best_params_))\n",
        "print(\"Tuned lasso score: {}\".format(lasso_cv.best_score_))\n",
        "\n",
        "#Best Alpha: 0.1 was the winner!\n",
        "#Best Score: This alpha achieved 25.4% accuracy on cross-validation"
      ],
      "metadata": {
        "colab": {
          "base_uri": "https://localhost:8080/"
        },
        "id": "S1avAc-v6UFz",
        "outputId": "c12acc1c-24ca-4b4d-ed34-cb193a1492ef"
      },
      "execution_count": 41,
      "outputs": [
        {
          "output_type": "stream",
          "name": "stdout",
          "text": [
            "Tuned lasso paramaters: {'alpha': np.float64(1e-05)}\n",
            "Tuned lasso score: 0.25490312936865767\n"
          ]
        }
      ]
    },
    {
      "cell_type": "markdown",
      "source": [
        "## Hyperparameter tuning with RandomizedSearchCV\n",
        "GridSearchCV can be computationally expensive, especially if you are searching over a large hyperparameter space. In this case, you can use RandomizedSearchCV, which tests a fixed number of hyperparameter settings from specified probability distributions."
      ],
      "metadata": {
        "id": "Jsy1W5dl8Tjd"
      }
    },
    {
      "cell_type": "code",
      "source": [
        "# Create the parameter space\n",
        "from sklearn.model_selection import RandomizedSearchCV\n",
        "params = {\"penalty\": [\"l1\", \"l2\"],\n",
        "         \"tol\": np.linspace(0.0001, 1.0, 50),\n",
        "         \"C\": np.linspace(0.1, 1.0, 50),\n",
        "         \"class_weight\": [\"balanced\", {0:0.8, 1:0.2}]}\n",
        "\n",
        "# Instantiate the RandomizedSearchCV object\n",
        "logreg_cv = RandomizedSearchCV(logreg, params, cv=kf)\n",
        "\n",
        "# Fit the data to the model\n",
        "logreg_cv.fit(X_train, y_train)\n",
        "\n",
        "# Print the tuned parameters and score\n",
        "print(\"Tuned Logistic Regression Parameters: {}\".format(logreg_cv.best_params_))\n",
        "print(\"Tuned Logistic Regression Best Accuracy Score: {}\".format(logreg_cv.best_score_))"
      ],
      "metadata": {
        "colab": {
          "base_uri": "https://localhost:8080/"
        },
        "id": "tmMmaRbC8VaJ",
        "outputId": "5eed0162-d882-4a4a-f672-0ef73f7f4a12"
      },
      "execution_count": 43,
      "outputs": [
        {
          "output_type": "stream",
          "name": "stdout",
          "text": [
            "Tuned Logistic Regression Parameters: {'tol': np.float64(0.02050612244897959), 'penalty': 'l2', 'class_weight': {0: 0.8, 1: 0.2}, 'C': np.float64(0.5408163265306123)}\n",
            "Tuned Logistic Regression Best Accuracy Score: 0.7167174313090933\n"
          ]
        }
      ]
    }
  ]
}